{
 "cells": [
  {
   "cell_type": "markdown",
   "metadata": {},
   "source": [
    "# Markov Matrices Assignment  \n",
    "## Nick Brown"
   ]
  },
  {
   "cell_type": "code",
   "execution_count": 1,
   "metadata": {},
   "outputs": [],
   "source": [
    "import numpy as np\n",
    "import pandas as pd\n",
    "from matplotlib import pyplot as plt\n",
    "import seaborn as sns"
   ]
  },
  {
   "cell_type": "code",
   "execution_count": 2,
   "metadata": {},
   "outputs": [
    {
     "data": {
      "text/html": [
       "<div>\n",
       "<style scoped>\n",
       "    .dataframe tbody tr th:only-of-type {\n",
       "        vertical-align: middle;\n",
       "    }\n",
       "\n",
       "    .dataframe tbody tr th {\n",
       "        vertical-align: top;\n",
       "    }\n",
       "\n",
       "    .dataframe thead th {\n",
       "        text-align: right;\n",
       "    }\n",
       "</style>\n",
       "<table border=\"1\" class=\"dataframe\">\n",
       "  <thead>\n",
       "    <tr style=\"text-align: right;\">\n",
       "      <th></th>\n",
       "      <th>date</th>\n",
       "      <th>GDP_cycle</th>\n",
       "    </tr>\n",
       "  </thead>\n",
       "  <tbody>\n",
       "    <tr>\n",
       "      <th>0</th>\n",
       "      <td>1948-01-01</td>\n",
       "      <td>0.020398</td>\n",
       "    </tr>\n",
       "    <tr>\n",
       "      <th>1</th>\n",
       "      <td>1948-04-01</td>\n",
       "      <td>0.024427</td>\n",
       "    </tr>\n",
       "    <tr>\n",
       "      <th>2</th>\n",
       "      <td>1948-07-01</td>\n",
       "      <td>0.017784</td>\n",
       "    </tr>\n",
       "    <tr>\n",
       "      <th>3</th>\n",
       "      <td>1948-10-01</td>\n",
       "      <td>0.006505</td>\n",
       "    </tr>\n",
       "    <tr>\n",
       "      <th>4</th>\n",
       "      <td>1949-01-01</td>\n",
       "      <td>-0.019847</td>\n",
       "    </tr>\n",
       "  </tbody>\n",
       "</table>\n",
       "</div>"
      ],
      "text/plain": [
       "         date  GDP_cycle\n",
       "0  1948-01-01   0.020398\n",
       "1  1948-04-01   0.024427\n",
       "2  1948-07-01   0.017784\n",
       "3  1948-10-01   0.006505\n",
       "4  1949-01-01  -0.019847"
      ]
     },
     "execution_count": 2,
     "metadata": {},
     "output_type": "execute_result"
    }
   ],
   "source": [
    "df = pd.read_csv('GDP_cycle.csv')\n",
    "df = df.rename(columns={\"Unnamed: 0\": \"date\", \"GDP cycle\":\"GDP_cycle\"})\n",
    "df.head()"
   ]
  },
  {
   "cell_type": "code",
   "execution_count": 3,
   "metadata": {
    "scrolled": false
   },
   "outputs": [
    {
     "data": {
      "text/plain": [
       "<AxesSubplot:xlabel='GDP_cycle', ylabel='Count'>"
      ]
     },
     "execution_count": 3,
     "metadata": {},
     "output_type": "execute_result"
    },
    {
     "data": {
      "image/png": "[encoded data removed]",
      "text/plain": [
       "<Figure size 432x288 with 1 Axes>"
      ]
     },
     "metadata": {
      "needs_background": "light"
     },
     "output_type": "display_data"
    }
   ],
   "source": [
    "# histogram of data\n",
    "sns.histplot(data = df, x = 'GDP_cycle')"
   ]
  },
  {
   "cell_type": "markdown",
   "metadata": {},
   "source": [
    "Most of the data appears to be withing -0.02 and 0.02 for the GDP cycle."
   ]
  },
  {
   "cell_type": "markdown",
   "metadata": {},
   "source": [
    "Now it's time to create the four quantiles, add them to our dataframe, and create the consumption vector."
   ]
  },
  {
   "cell_type": "code",
   "execution_count": 4,
   "metadata": {},
   "outputs": [
    {
     "data": {
      "text/plain": [
       "array([[0.97856301, 0.99634314, 1.00618408, 1.01935352]])"
      ]
     },
     "execution_count": 4,
     "metadata": {},
     "output_type": "execute_result"
    }
   ],
   "source": [
    "# Creating the quantiles using a Pandas function qcut\n",
    "df['quant']=pd.qcut(df['GDP_cycle'],4, labels =False)\n",
    "# Creating the consumption vector, using the mean of each quantile\n",
    "consumption_vector = np.array(np.exp(df.groupby('quant').mean()))\n",
    "consumption_vector = np.transpose(consumption_vector)\n",
    "consumption_vector"
   ]
  },
  {
   "cell_type": "code",
   "execution_count": 5,
   "metadata": {},
   "outputs": [],
   "source": [
    "df = df.astype({'quant': 'int64'}) # this was to make sure the quant column was integers"
   ]
  },
  {
   "cell_type": "code",
   "execution_count": 6,
   "metadata": {},
   "outputs": [
    {
     "data": {
      "text/html": [
       "<div>\n",
       "<style scoped>\n",
       "    .dataframe tbody tr th:only-of-type {\n",
       "        vertical-align: middle;\n",
       "    }\n",
       "\n",
       "    .dataframe tbody tr th {\n",
       "        vertical-align: top;\n",
       "    }\n",
       "\n",
       "    .dataframe thead th {\n",
       "        text-align: right;\n",
       "    }\n",
       "</style>\n",
       "<table border=\"1\" class=\"dataframe\">\n",
       "  <thead>\n",
       "    <tr style=\"text-align: right;\">\n",
       "      <th></th>\n",
       "      <th>date</th>\n",
       "      <th>GDP_cycle</th>\n",
       "      <th>quant</th>\n",
       "    </tr>\n",
       "  </thead>\n",
       "  <tbody>\n",
       "    <tr>\n",
       "      <th>0</th>\n",
       "      <td>1948-01-01</td>\n",
       "      <td>0.020398</td>\n",
       "      <td>3</td>\n",
       "    </tr>\n",
       "    <tr>\n",
       "      <th>1</th>\n",
       "      <td>1948-04-01</td>\n",
       "      <td>0.024427</td>\n",
       "      <td>3</td>\n",
       "    </tr>\n",
       "    <tr>\n",
       "      <th>2</th>\n",
       "      <td>1948-07-01</td>\n",
       "      <td>0.017784</td>\n",
       "      <td>3</td>\n",
       "    </tr>\n",
       "    <tr>\n",
       "      <th>3</th>\n",
       "      <td>1948-10-01</td>\n",
       "      <td>0.006505</td>\n",
       "      <td>2</td>\n",
       "    </tr>\n",
       "    <tr>\n",
       "      <th>4</th>\n",
       "      <td>1949-01-01</td>\n",
       "      <td>-0.019847</td>\n",
       "      <td>0</td>\n",
       "    </tr>\n",
       "  </tbody>\n",
       "</table>\n",
       "</div>"
      ],
      "text/plain": [
       "         date  GDP_cycle  quant\n",
       "0  1948-01-01   0.020398      3\n",
       "1  1948-04-01   0.024427      3\n",
       "2  1948-07-01   0.017784      3\n",
       "3  1948-10-01   0.006505      2\n",
       "4  1949-01-01  -0.019847      0"
      ]
     },
     "execution_count": 6,
     "metadata": {},
     "output_type": "execute_result"
    }
   ],
   "source": [
    "df.head() # here is what our dataframe looks like."
   ]
  },
  {
   "cell_type": "markdown",
   "metadata": {},
   "source": [
    "Now I will create the M matrix using a fairly large series of if-else statements and a loop. Basically the loop and if-else statements will look at at every point in our data set and the following point and then count what transition occurs. So if one element is 1 and the next element is 2 this transition is counted by going through the if-else statements."
   ]
  },
  {
   "cell_type": "code",
   "execution_count": 7,
   "metadata": {
    "scrolled": true
   },
   "outputs": [
    {
     "data": {
      "text/plain": [
       "array([[54., 14.,  4.,  0.],\n",
       "       [16., 42., 14.,  1.],\n",
       "       [ 2., 15., 39., 17.],\n",
       "       [ 1.,  2., 16., 54.]])"
      ]
     },
     "execution_count": 7,
     "metadata": {},
     "output_type": "execute_result"
    }
   ],
   "source": [
    "# first creating a matrix of zeros\n",
    "M = np.zeros((4,4))\n",
    "# now for the loop\n",
    "for i in range(len(df) -1):\n",
    "    if df.quant[i] == 0:\n",
    "        if df.quant[i+1] == 0:\n",
    "            M[0,0] += 1\n",
    "        elif df.quant[i+1] == 1:\n",
    "            M[0,1] += 1\n",
    "        elif df.quant[i+1] == 2:\n",
    "            M[0,2] += 1\n",
    "        else:\n",
    "            M[0,3] += 1\n",
    "    elif df.quant[i] == 1:\n",
    "        if df.quant[i+1] == 0:\n",
    "            M[1,0] += 1\n",
    "        elif df.quant[i+1] == 1:\n",
    "            M[1,1] += 1\n",
    "        elif df.quant[i+1] == 2:\n",
    "            M[1,2] += 1\n",
    "        else:\n",
    "            M[1,3] += 1\n",
    "    elif df.quant[i] == 2:\n",
    "        if df.quant[i+1] == 0:\n",
    "            M[2,0] += 1\n",
    "        elif df.quant[i+1] == 1:\n",
    "            M[2,1] += 1\n",
    "        elif df.quant[i+1] == 2:\n",
    "            M[2,2] += 1\n",
    "        else:\n",
    "            M[2,3] += 1\n",
    "    elif df.quant[i] == 3:\n",
    "        if df.quant[i+1] == 0:\n",
    "            M[3,0] += 1\n",
    "        elif df.quant[i+1] == 1:\n",
    "            M[3,1] += 1\n",
    "        elif df.quant[i+1] == 2:\n",
    "            M[3,2] += 1\n",
    "        else:\n",
    "            M[3,3] += 1\n",
    "\n",
    "# printing the matrix to see the raw totals for transitions\n",
    "M"
   ]
  },
  {
   "cell_type": "markdown",
   "metadata": {},
   "source": [
    "Now it's time to get this into Markov form with each row consisting of probabilities. This is achieved by dividing each element by the row sum. Will achieve this with a loop."
   ]
  },
  {
   "cell_type": "code",
   "execution_count": 8,
   "metadata": {
    "scrolled": true
   },
   "outputs": [],
   "source": [
    "# the aforementioned loop\n",
    "for i in range(M.shape[0]):\n",
    "    M[i,] = M[i,] / sum(M[i,])"
   ]
  },
  {
   "cell_type": "code",
   "execution_count": 9,
   "metadata": {
    "scrolled": true
   },
   "outputs": [
    {
     "data": {
      "text/plain": [
       "array([[0.75      , 0.19444444, 0.05555556, 0.        ],\n",
       "       [0.21917808, 0.57534247, 0.19178082, 0.01369863],\n",
       "       [0.02739726, 0.20547945, 0.53424658, 0.23287671],\n",
       "       [0.01369863, 0.02739726, 0.21917808, 0.73972603]])"
      ]
     },
     "execution_count": 9,
     "metadata": {},
     "output_type": "execute_result"
    }
   ],
   "source": [
    "# Our Markov Matrix\n",
    "M"
   ]
  },
  {
   "cell_type": "markdown",
   "metadata": {},
   "source": [
    "Using Fisher code with our Markov matrix. Will see if this works (note: it works, but after I nixed the exponentiation rules Fisher gave):"
   ]
  },
  {
   "cell_type": "code",
   "execution_count": 10,
   "metadata": {
    "scrolled": false
   },
   "outputs": [
    {
     "data": {
      "text/plain": [
       "array([[0.96345941, 0.7275    , 0.18482003, 0.05113938, 0.        ],\n",
       "       [0.9677451 , 0.21696371, 0.55808219, 0.18015708, 0.01254212],\n",
       "       [0.97219652, 0.02800417, 0.20580964, 0.51821918, 0.22016353],\n",
       "       [0.97818858, 0.01436631, 0.02815509, 0.21813295, 0.71753425]])"
      ]
     },
     "execution_count": 10,
     "metadata": {},
     "output_type": "execute_result"
    }
   ],
   "source": [
    "def kern(c0,c1,rho):\n",
    "    \"\"\"\n",
    "    This function returns an asset pricing kernel \n",
    "    c0 is current consumption\n",
    "    c1 is the vector of future consumptions\n",
    "    rho is the inter-temporal elasticity of substitution\n",
    "    \"\"\"\n",
    "    if rho == 1:\n",
    "        return np.true_divide(1,c1)/(1/c0) \n",
    "    else: \n",
    "        return np.power(c1,-rho)/c0**(-rho)\n",
    "\n",
    "# Pricing Kernel\n",
    "def mkern(c,beta,rho):\n",
    "    n = len(c) # number of states\n",
    "    K=np.zeros((n,n)) # start with an array of zeros\n",
    "    for i in range (n):\n",
    "        K[i,:] = beta*kern(c[i],c,rho)  # each row is an asset pricing kernel for consumption in state i\n",
    "    return(K)\n",
    "\n",
    "# Getting Price\n",
    "def pricing(M,K,R):\n",
    "    \"\"\"\n",
    "    M is a markov matrix\n",
    "    K is a pricing kernel\n",
    "    R is a matrix of asset payouts.\n",
    "    The asset returns are by column\n",
    "    \"\"\"\n",
    "    if M.shape != K.shape:\n",
    "        return('Markov matrix and pricing kernels are not conformable.')\n",
    "    if M.shape[1] != R.shape[0]:\n",
    "        return('Asset price matrix is not conformable.')\n",
    "    P = np.matmul(np.multiply(M,K), R)  \n",
    "    # element by element multiplication of the pricing kernel with the markov probabilities\n",
    "    return(P)\n",
    "\n",
    "\n",
    "beta=0.97#**(1/4) # taking this to the 1/4 power per Fisher's instructions\n",
    "# decided to not exponentiate this to the 1/4 power because the answers only line up with Fisher's when you don't\n",
    "rho=2\n",
    "\n",
    "# Not sure on how to specify R so using Fisher's R from the notes.\n",
    "R = np.array([[1, 1, 0, 0, 0],\n",
    "             [1,0, 1, 0, 0],\n",
    "             [1, 0, 0, 1, 0],\n",
    "             [1,0, 0, 0, 1]])\n",
    "\n",
    "c = [0.98, 0.99, 1.006, 1.019] # had to create c like this because Python didn't seem to want to work otherwise\n",
    "\n",
    "K = mkern(c,beta,rho)\n",
    "p=pricing(M,K,R)\n",
    "p"
   ]
  },
  {
   "cell_type": "code",
   "execution_count": 13,
   "metadata": {},
   "outputs": [
    {
     "data": {
      "text/plain": [
       "array([1.03792645, 1.03332995, 1.02859862, 1.02229776])"
      ]
     },
     "execution_count": 13,
     "metadata": {},
     "output_type": "execute_result"
    }
   ],
   "source": [
    "interest_rate = (1/p[:,0]) \n",
    "interest_rate #check my work"
   ]
  },
  {
   "cell_type": "markdown",
   "metadata": {},
   "source": [
    "Here are the interest rates per state. Now let's get the average long term interest rate. Using Fisher's code from the February 2nd lecture."
   ]
  },
  {
   "cell_type": "code",
   "execution_count": 16,
   "metadata": {
    "scrolled": true
   },
   "outputs": [
    {
     "name": "stdout",
     "output_type": "stream",
     "text": [
      "The average interest rate is 1.0306637698283967\n"
     ]
    },
    {
     "data": {
      "image/png": "[encoded data removed]",
      "text/plain": [
       "<Figure size 432x288 with 1 Axes>"
      ]
     },
     "metadata": {
      "needs_background": "light"
     },
     "output_type": "display_data"
    }
   ],
   "source": [
    "def ergodic(m):\n",
    "    \"\"\"\n",
    "    This code finds the ergodic distribution of a Markov matrix\n",
    "    \"\"\"\n",
    "    n=m.shape[0] # number of rows\n",
    "    T = 1000 # useful constant\n",
    "    eps=0.0001 #useful constant\n",
    "    if (m.shape[0] != m.shape[1]): #test for a square matrix\n",
    "        return('Matrix is not square') \n",
    "    if (not (np.matmul(m,np.ones(n))==1).all()): #test row sums \n",
    "        return('This is not a Markov matrix')\n",
    "    if( not ((m >= 0).all() and (m <= 1).all())): #test probabilities\n",
    "        return('This is not a Markov matrix')\n",
    "    m_long = np.linalg.matrix_power(m,T)\n",
    "    if( not ((m_long > 0).all() and (m_long < 1).all())): #crude test for aperiodic and irreducible\n",
    "        return('This matrix may not be both aperiodic and irreducible')\n",
    "    w,v = np.linalg.eig(m.T) #Need the left eigenvector; that's why we transpose\n",
    "    choose = (abs(w-1) < eps)\n",
    "    m_long = v[:,choose]/sum(v[:,choose])  #Need to make the eigenvector into a probability vector.\n",
    "    return(m_long)\n",
    "\n",
    "long_run = ergodic(M)  # gets the ergodic distribution of M\n",
    "n=len(c) # number of states\n",
    "T=1000 # time horizon\n",
    "y=[] #GDP array\n",
    "int_rate=[] # interest rate array\n",
    "for t in range(T):\n",
    "    s=np.random.choice(np.arange(0, n), p=long_run[:,0]) #choose a random state using π\n",
    "    y.append(c[s])\n",
    "    int_rate.append(interest_rate[s])\n",
    "    \n",
    "# plot the outcome\n",
    "plt.plot(y)\n",
    "plt.plot(int_rate)\n",
    "\n",
    "print('The average interest rate is', np.mean(int_rate))"
   ]
  },
  {
   "cell_type": "markdown",
   "metadata": {},
   "source": [
    "Was able to get the same long term interest rate as Fisher after I didn't exponentiate $\\beta^{1/4}$ and then didn't exponentiate the interest rates to the fourth power. Otherwise my interest rates were extremely low, basically zero. Not sure what the issue was there. Nonetheless was able to achieve the 3% interest rate Fisher wanted."
   ]
  }
 ],
 "metadata": {
  "kernelspec": {
   "display_name": "Python 3",
   "language": "python",
   "name": "python3"
  },
  "language_info": {
   "codemirror_mode": {
    "name": "ipython",
    "version": 3
   },
   "file_extension": ".py",
   "mimetype": "text/x-python",
   "name": "python",
   "nbconvert_exporter": "python",
   "pygments_lexer": "ipython3",
   "version": "3.8.3"
  }
 },
 "nbformat": 4,
 "nbformat_minor": 4
}

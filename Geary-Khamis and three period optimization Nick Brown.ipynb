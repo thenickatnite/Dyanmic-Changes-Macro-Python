{
 "cells": [
  {
   "cell_type": "markdown",
   "metadata": {},
   "source": [
    "Assignment 4  \n",
    "Nick Brown"
   ]
  },
  {
   "cell_type": "markdown",
   "metadata": {},
   "source": [
    "# Problem 1: Geary Khamis Dollars"
   ]
  },
  {
   "cell_type": "code",
   "execution_count": 2,
   "metadata": {
    "scrolled": true
   },
   "outputs": [
    {
     "name": "stdout",
     "output_type": "stream",
     "text": [
      "USA Values\n",
      "               0           1         2           3\n",
      "2016  167.201020  392.147271  0.048106  207.763100\n",
      "2017  184.189704  431.145675  0.052727  228.400549\n",
      "2018  201.340203  469.893617  0.057261  247.078008\n",
      "2019  216.183313  512.658352  0.062533  271.131258\n",
      "2020  240.151096  556.343617  0.069126  295.569856\n",
      "USA Prices\n",
      "             0         1         2         3\n",
      "2016  4.009405  5.444036  4.205984  6.872005\n",
      "2017  4.166779  5.646639  4.349046  7.126993\n",
      "2018  4.296945  5.805767  4.455739  7.273399\n",
      "2019  4.352568  5.975610  4.590486  7.529689\n",
      "2020  4.561442  6.117746  4.787259  7.743757\n",
      "USSR Values\n",
      "               0           1          2            3\n",
      "2016  181.034913  487.275462  30.641377  1392.715646\n",
      "2017  190.480016  511.520865  32.660035  1462.357053\n",
      "2018  198.631734  536.785099  35.436915  1533.625710\n",
      "2019  208.826584  563.310163  35.467864  1611.587438\n",
      "2020  219.135046  591.594804  38.118986  1689.888132\n",
      "USSR Prices\n",
      "              0          1         2          3\n",
      "2016  12.335785  52.770509  1.645084  40.303065\n",
      "2017  12.979378  55.396215  1.753463  42.318381\n",
      "2018  13.534839  58.132258  1.902549  44.380787\n",
      "2019  14.229520  61.004845  1.904210  46.636881\n",
      "2020  14.931942  64.067989  2.046545  48.902783\n"
     ]
    }
   ],
   "source": [
    "import numpy as np\n",
    "import pandas as pd\n",
    "import math\n",
    "\n",
    "np.random.seed(1) # setting seed for replication\n",
    "\n",
    "N = 4 # number of goods in the economy\n",
    "C = 2 # number of countries, in this case the United States and Soviet Union\n",
    "Year = 5 # number of years that we are simulating \n",
    "Type = 2 # types: Values and Prices\n",
    "\n",
    "# watched the lecture video from Thursday (and saw some of Fisher's solution) to get a sense of how to approach this problem. \n",
    "# Changed country names, seed, and shocks as well as figures and scales\n",
    "\n",
    "Names = ['USA', 'USSR'] # country names\n",
    "Year_names = ['2016','2017','2018','2019','2020'] # years, obviously in an alternate reality where USSR still exists\n",
    "Type_names = ['Values','Prices']\n",
    "\n",
    "# Pseudo Data\n",
    "# quantities\n",
    "scale1 = 100\n",
    "q_base = [scale1*np.random.rand(N) for i in range(int(C))] # initial base quantity\n",
    "\n",
    "# adding in growth\n",
    "growth = [0.06,0.0] # growth for country 1 (USA), no growth for country 2 (USSR)\n",
    "\n",
    "# adding growth to base quantity using Python's list comprehension\n",
    "quantities = [[q_base[j]*(1+growth[j])**i for i in range(int(Year))] for j in range(int(C))]\n",
    "Quantities = np.array(quantities) # coverting to numpy array, easier to use than list\n",
    "\n",
    "# Now generating prices\n",
    "scale = [10,60] # scale for base prices. Scale is 6 times greater for USSR\n",
    "p_base = [scale[i]*np.random.rand(N) for i in range(int(C))]\n",
    "\n",
    "# now adding inflation and price shocks for future years\n",
    "inflation = [0.03, 0.05] # yearly inflation, both countries face inflation\n",
    "scale = [0.1, 0.1] # used for determining price shocks\n",
    "\n",
    "# adding inflation and price shocks to base prices\n",
    "prices = [[p_base[j]*(1+inflation[j])**i + scale[j]*np.random.rand(N) for i in range(int(Year))] for j in range(int(C))]\n",
    "prices = np.array(prices)\n",
    "\n",
    "# create values (multiplying prices with quantities)\n",
    "values = prices*Quantities\n",
    "\n",
    "# getting some nice looking tables (like how Fisher did)\n",
    "data = np.array([values, prices])\n",
    "for i in range(int(C)):\n",
    "    for j in range(int(Type)):\n",
    "        print(Names[i], Type_names[j])\n",
    "        print(pd.DataFrame (data[j,i,:,:],columns=range(N), index = Year_names))"
   ]
  },
  {
   "cell_type": "code",
   "execution_count": 3,
   "metadata": {},
   "outputs": [],
   "source": [
    "# time to work with the pseudo data, and get the figures we are looking for\n",
    "Values = data[0]\n",
    "prices = data[1]\n",
    "\n",
    "# concatenating the Quantities and values variables\n",
    "Quantities = np.concatenate([Quantities[0,:,:],Quantities[1,:,:]])\n",
    "Values = np.concatenate([data[0,0,:,:],data[0,1,:,:]])\n",
    "\n",
    "# this is pure Fisher code, slightly adapted from lecture notebook\n",
    "c_one = np.ones((N,1))  #this is a column vector of ones\n",
    "r_ones = np.ones((1,C*Year)) #row vector of ones, accounting for years\n",
    "\n",
    "GDP = np.dot(Values, c_one) # this is how to do matrix multiplication in Python\n",
    "World_Q = np.dot(r_ones, Quantities)\n",
    "\n",
    "GDP_shares = np.divide(Values, GDP) #it knows to divide by columns\n",
    "Q_shares =  np.divide(Quantities, World_Q) #it knows to divide by rows\n",
    "\n",
    "M=np.zeros((C*Year,C*Year))# dummy array\n",
    "\n",
    "# filling the dummy array with the values\n",
    "for i in range(C*Year):\n",
    "    for j in range(C*Year):\n",
    "        M[i,j] = np.dot(np.multiply(GDP_shares[i,:],Q_shares[j,:]),c_one)\n",
    "        \n",
    "        \n",
    "I = np.identity(C*Year) \n",
    "R = np.zeros((C*Year,C*Year))\n",
    "R[:,0] = 1  # see Balk\n",
    "r = np.zeros(C*Year)\n",
    "r[0] = 1 #see Balk\n",
    "\n",
    "Q_GK = np.dot(r,np.linalg.inv(M - I + R))\n",
    "PPP_GK = np.divide(np.transpose(GDP),Q_GK)\n",
    "World_Prices = np.divide(np.dot(Q_GK,GDP_shares),World_Q)"
   ]
  },
  {
   "cell_type": "code",
   "execution_count": 4,
   "metadata": {},
   "outputs": [],
   "source": [
    "# Table Time\n",
    "results = np.zeros((5,4))\n",
    "\n",
    "results[:,0] = Q_GK[0:5]\n",
    "results[:,1] = Q_GK[5:10]\n",
    "results[:,2] = PPP_GK[0,0:5]\n",
    "results[:,3] = PPP_GK[0,5:10]\n",
    "\n",
    "# rounding the decimal points to 2\n",
    "pd.options.display.float_format = '{:,.3f}'.format\n",
    "Names = ['GK-Growth USA','GK-Growth USSR','GK-Price Levels USA','GK-Price Levels USSR']\n",
    "c_y = ['2016','2017','2018','2019','2020']\n",
    "\n",
    "df1 = pd.DataFrame(results, columns=Names, index = c_y)\n",
    "\n",
    "exchange_rate = PPP_GK[0,5:10] / PPP_GK[0,0:5] # the exchange rate defined as the amount of rubles it takes to buy a dollar\n",
    "\n",
    "Name = ['PPP Exchange Rate']\n",
    "\n",
    "df2 = pd.DataFrame(exchange_rate, columns=Name, index=Year_names)\n",
    "\n",
    "# Getting the growth rates for both countries, taking the log to easily get percentage growth\n",
    "USAgrowth = np.insert([(np.log(Q_GK[1:5])-np.log(Q_GK[:4]))],0,math.nan) # inserting a NaN for the growth rate in the first year\n",
    "USSRgrowth = np.insert([(np.log(Q_GK[6:10])-np.log(Q_GK[5:9]))],0,math.nan)\n",
    "\n",
    "df2['USA Growth'] = USAgrowth\n",
    "df2['USSR Growth'] = USSRgrowth\n",
    "df2['Relative Size of the United States'] = Q_GK[0:5]/Q_GK[5:10] # the relative size of USA compared to USSR"
   ]
  },
  {
   "cell_type": "markdown",
   "metadata": {},
   "source": [
    "## Table 1"
   ]
  },
  {
   "cell_type": "code",
   "execution_count": 5,
   "metadata": {
    "scrolled": false
   },
   "outputs": [
    {
     "data": {
      "text/html": [
       "<div>\n",
       "<style scoped>\n",
       "    .dataframe tbody tr th:only-of-type {\n",
       "        vertical-align: middle;\n",
       "    }\n",
       "\n",
       "    .dataframe tbody tr th {\n",
       "        vertical-align: top;\n",
       "    }\n",
       "\n",
       "    .dataframe thead th {\n",
       "        text-align: right;\n",
       "    }\n",
       "</style>\n",
       "<table border=\"1\" class=\"dataframe\">\n",
       "  <thead>\n",
       "    <tr style=\"text-align: right;\">\n",
       "      <th></th>\n",
       "      <th>GK-Growth USA</th>\n",
       "      <th>GK-Growth USSR</th>\n",
       "      <th>GK-Price Levels USA</th>\n",
       "      <th>GK-Price Levels USSR</th>\n",
       "    </tr>\n",
       "  </thead>\n",
       "  <tbody>\n",
       "    <tr>\n",
       "      <th>2016</th>\n",
       "      <td>0.127</td>\n",
       "      <td>0.057</td>\n",
       "      <td>6,040.820</td>\n",
       "      <td>36,810.582</td>\n",
       "    </tr>\n",
       "    <tr>\n",
       "      <th>2017</th>\n",
       "      <td>0.135</td>\n",
       "      <td>0.057</td>\n",
       "      <td>6,268.131</td>\n",
       "      <td>38,664.613</td>\n",
       "    </tr>\n",
       "    <tr>\n",
       "      <th>2018</th>\n",
       "      <td>0.143</td>\n",
       "      <td>0.057</td>\n",
       "      <td>6,435.996</td>\n",
       "      <td>40,555.793</td>\n",
       "    </tr>\n",
       "    <tr>\n",
       "      <th>2019</th>\n",
       "      <td>0.151</td>\n",
       "      <td>0.057</td>\n",
       "      <td>6,611.623</td>\n",
       "      <td>42,574.583</td>\n",
       "    </tr>\n",
       "    <tr>\n",
       "      <th>2020</th>\n",
       "      <td>0.160</td>\n",
       "      <td>0.057</td>\n",
       "      <td>6,811.811</td>\n",
       "      <td>44,678.416</td>\n",
       "    </tr>\n",
       "  </tbody>\n",
       "</table>\n",
       "</div>"
      ],
      "text/plain": [
       "      GK-Growth USA  GK-Growth USSR  GK-Price Levels USA  GK-Price Levels USSR\n",
       "2016          0.127           0.057            6,040.820            36,810.582\n",
       "2017          0.135           0.057            6,268.131            38,664.613\n",
       "2018          0.143           0.057            6,435.996            40,555.793\n",
       "2019          0.151           0.057            6,611.623            42,574.583\n",
       "2020          0.160           0.057            6,811.811            44,678.416"
      ]
     },
     "execution_count": 5,
     "metadata": {},
     "output_type": "execute_result"
    }
   ],
   "source": [
    "df1"
   ]
  },
  {
   "cell_type": "markdown",
   "metadata": {},
   "source": [
    "We can see that price levels appear to be growing much faster in the USSR than they are in the United States. This is in line with our code as the US has 3% yearly inflation while the USSR suffers from 5% yearly inflation (this is not accounting for the price shocks that were also applied). Nonetheless, in both cases we can clearly see the price levels are rising over time. We can see that the US also appears to have some sort of growth, while the USSR appears have be stagnant (see columns 1 and 2)."
   ]
  },
  {
   "cell_type": "markdown",
   "metadata": {},
   "source": [
    "## Table 2"
   ]
  },
  {
   "cell_type": "code",
   "execution_count": 6,
   "metadata": {
    "scrolled": false
   },
   "outputs": [
    {
     "data": {
      "text/html": [
       "<div>\n",
       "<style scoped>\n",
       "    .dataframe tbody tr th:only-of-type {\n",
       "        vertical-align: middle;\n",
       "    }\n",
       "\n",
       "    .dataframe tbody tr th {\n",
       "        vertical-align: top;\n",
       "    }\n",
       "\n",
       "    .dataframe thead th {\n",
       "        text-align: right;\n",
       "    }\n",
       "</style>\n",
       "<table border=\"1\" class=\"dataframe\">\n",
       "  <thead>\n",
       "    <tr style=\"text-align: right;\">\n",
       "      <th></th>\n",
       "      <th>PPP Exchange Rate</th>\n",
       "      <th>USA Growth</th>\n",
       "      <th>USSR Growth</th>\n",
       "      <th>Relative Size of the United States</th>\n",
       "    </tr>\n",
       "  </thead>\n",
       "  <tbody>\n",
       "    <tr>\n",
       "      <th>2016</th>\n",
       "      <td>6.094</td>\n",
       "      <td>NaN</td>\n",
       "      <td>NaN</td>\n",
       "      <td>2.235</td>\n",
       "    </tr>\n",
       "    <tr>\n",
       "      <th>2017</th>\n",
       "      <td>6.168</td>\n",
       "      <td>0.058</td>\n",
       "      <td>0.000</td>\n",
       "      <td>2.369</td>\n",
       "    </tr>\n",
       "    <tr>\n",
       "      <th>2018</th>\n",
       "      <td>6.301</td>\n",
       "      <td>0.058</td>\n",
       "      <td>0.000</td>\n",
       "      <td>2.511</td>\n",
       "    </tr>\n",
       "    <tr>\n",
       "      <th>2019</th>\n",
       "      <td>6.439</td>\n",
       "      <td>0.058</td>\n",
       "      <td>-0.000</td>\n",
       "      <td>2.662</td>\n",
       "    </tr>\n",
       "    <tr>\n",
       "      <th>2020</th>\n",
       "      <td>6.559</td>\n",
       "      <td>0.058</td>\n",
       "      <td>0.000</td>\n",
       "      <td>2.822</td>\n",
       "    </tr>\n",
       "  </tbody>\n",
       "</table>\n",
       "</div>"
      ],
      "text/plain": [
       "      PPP Exchange Rate  USA Growth  USSR Growth  \\\n",
       "2016              6.094         NaN          NaN   \n",
       "2017              6.168       0.058        0.000   \n",
       "2018              6.301       0.058        0.000   \n",
       "2019              6.439       0.058       -0.000   \n",
       "2020              6.559       0.058        0.000   \n",
       "\n",
       "      Relative Size of the United States  \n",
       "2016                               2.235  \n",
       "2017                               2.369  \n",
       "2018                               2.511  \n",
       "2019                               2.662  \n",
       "2020                               2.822  "
      ]
     },
     "execution_count": 6,
     "metadata": {},
     "output_type": "execute_result"
    }
   ],
   "source": [
    "df2"
   ]
  },
  {
   "cell_type": "markdown",
   "metadata": {},
   "source": [
    "As we can see from the table 2, the United States is experiencing about 6% growth each year (log puts it in percent terms), while the USSR is stagnating with 0% growth. The PPP exchange rate is growing each year. It looks like it takes around 6 rubles to buy a dollar in 2016, and then around 6.56 rubles to buy a dollar in 2020. So the real exchange rate is increasing over time, as the dollar begins to become worth more. We can see the relative size of the United States appears to be at least 2 times greater than the USSR, and grows to about 2.8 times the size of the USSR by 2020."
   ]
  },
  {
   "cell_type": "markdown",
   "metadata": {},
   "source": [
    "# Problem 2: Ideal Rate of Saving (Three Periods)"
   ]
  },
  {
   "cell_type": "code",
   "execution_count": 7,
   "metadata": {},
   "outputs": [
    {
     "data": {
      "text/plain": [
       "     fun: -32.4669368838002\n",
       "     jac: array([-0.21829414, -0.1822691 , -0.13587809])\n",
       " message: 'Optimization terminated successfully'\n",
       "    nfev: 62\n",
       "     nit: 15\n",
       "    njev: 15\n",
       "  status: 0\n",
       " success: True\n",
       "       x: array([5.42473735, 5.89692354, 7.26883581])"
      ]
     },
     "execution_count": 7,
     "metadata": {},
     "output_type": "execute_result"
    }
   ],
   "source": [
    "import scipy as sp\n",
    "import numpy as np\n",
    "import matplotlib.pyplot as plt\n",
    "\n",
    "K0 = 2 #intial capital\n",
    "alpha = 0.33 # capital's share\n",
    "A = 6 # Total factor productivity\n",
    "Y1=A*K0**alpha  #GDP at time 1\n",
    "\n",
    "#preference parameters\n",
    "rho = 0.9 #elasticity of substitution\n",
    "beta = 0.9 #discount factor\n",
    "\n",
    "def f(c):\n",
    "    \"\"\"\n",
    "    This is the utility function for a three-period model\n",
    "    \"\"\"\n",
    "    if rho == 1:\n",
    "        u = np.log(c[0]) + beta*np.log(c[1]) + (beta**2)*np.log(c[2])\n",
    "    else: \n",
    "        u = (c[0]**(1-rho) +beta*c[1]**(1-rho))/(1-rho)+ beta**2*(c[2]**(1-rho)) / (1-rho)\n",
    "    return -u\n",
    "\n",
    "def MRS(c):\n",
    "    \"\"\"\n",
    "    This is the marginal rate of substitution function for a three-period model\n",
    "    \"\"\"\n",
    "    if rho == 1:\n",
    "        MRS = [1/c[0], beta/c[1], (beta**2)/c[2]]\n",
    "    else: \n",
    "        MRS =[c[0]**(-rho), beta*c[1]**(-rho), beta**2*c[2]**(-rho)]\n",
    "    return MRS\n",
    "\n",
    "x0 = [5, 5, 5] # initial guesses for optimization\n",
    "bnds = ((0.5, 200), (0.5, 200), (0.5, 200))\n",
    "\n",
    "cons = (\n",
    "    {'type': 'ineq','fun' : lambda x: np.array([A*(Y1-x[0])**alpha - x[1]])},\n",
    "    {'type': 'ineq','fun' : lambda x: np.array([A*(A*(Y1-x[0])**alpha - x[1])**alpha - x[2]])}\n",
    "    )\n",
    "\n",
    "from scipy import optimize as opt\n",
    "cx = opt.minimize(f, x0, bounds=bnds, constraints=cons)\n",
    "cx"
   ]
  },
  {
   "cell_type": "code",
   "execution_count": 8,
   "metadata": {},
   "outputs": [
    {
     "name": "stdout",
     "output_type": "stream",
     "text": [
      "Present price vector is [1.   0.83 0.62]\n",
      "Gross interest rates are [1.198 1.341]\n",
      "Consumption plan is [5.42 5.9  7.27]\n"
     ]
    }
   ],
   "source": [
    "c = cx['x']\n",
    "prices = MRS(c)\n",
    "prices = prices/prices[0]\n",
    "Y2 = A*Y1**alpha\n",
    "print('Present price vector is', np.round(prices,2))\n",
    "print('Gross interest rates are', np.round([prices[0]/prices[1],prices[1]/prices[2]],3))\n",
    "print('Consumption plan is', np.round(c,2))"
   ]
  },
  {
   "cell_type": "markdown",
   "metadata": {},
   "source": [
    "Code appears to work. Debugged with Fisher, was able to fix the constraint and got results that make sense (interest rates and the consumption plan go up over time). Can now use this code in a function, that will make changing the parameters and evaluating the changes easier, less coding anyways. Wasn't sure how to adjust the code to get the \"savings\". Need to figure out how to get Y2."
   ]
  },
  {
   "cell_type": "code",
   "execution_count": 9,
   "metadata": {},
   "outputs": [],
   "source": [
    "def opt_save(A, beta, rho,K0, alpha):\n",
    "    \"\"\"\n",
    "    Takes 5 parameters and returns the interest rates. \n",
    "    \"\"\"\n",
    "    \n",
    "    Y1 = A*K0**alpha # GDP at period 1\n",
    "    \n",
    "    def f(c):\n",
    "        \"\"\"\n",
    "        This is the utility function for a three-period model\n",
    "        \"\"\"\n",
    "        if rho == 1:\n",
    "            u = np.log(c[0]) + beta*np.log(c[1]) + (beta**2)*np.log(c[2])\n",
    "        else: \n",
    "            u = (c[0]**(1-rho) +beta*c[1]**(1-rho))/(1-rho)+ beta**2*(c[2]**(1-rho)) / (1-rho)\n",
    "        return -u\n",
    "    \n",
    "    def MRS(c):\n",
    "        \"\"\"\n",
    "        This is the marginal rate of substitution function for a three-period model\n",
    "        \"\"\"\n",
    "        if rho == 1:\n",
    "            MRS = [1/c[0], beta/c[1], (beta**2)/c[2]]\n",
    "        else: \n",
    "            MRS =[c[0]**(-rho), beta*c[1]**(-rho), beta**2*c[2]**(-rho)]\n",
    "        return MRS\n",
    "    \n",
    "    x0 = [5, 5, 5] # initial guesses for optimization\n",
    "    bnds = ((0.5, 200), (0.5, 200), (0.5, 200))\n",
    "    \n",
    "    cons = (\n",
    "    {'type': 'ineq','fun' : lambda x: np.array([A*(Y1-x[0])**alpha - x[1]])},\n",
    "    {'type': 'ineq','fun' : lambda x: np.array([A*(A*(Y1-x[0])**alpha - x[1])**alpha - x[2]])}\n",
    "    )\n",
    "    \n",
    "    cx = opt.minimize(f, x0, bounds=bnds, constraints=cons)\n",
    "    c = cx['x']\n",
    "    \n",
    "    prices = MRS(c)\n",
    "    interest_rates = [prices[0]/prices[1], prices[1]/prices[2]]\n",
    "    \n",
    "    return (interest_rates)"
   ]
  },
  {
   "cell_type": "markdown",
   "metadata": {},
   "source": [
    "### First Change (change in $\\beta$)"
   ]
  },
  {
   "cell_type": "code",
   "execution_count": 10,
   "metadata": {},
   "outputs": [],
   "source": [
    "# setting up the initial parameters, with a focus on beta (going to cycle through a couple of different values)\n",
    "A  = 6\n",
    "beta = [0.25, 0.50, 0.75, 0.9, 0.95, 1]\n",
    "rho = 0.9\n",
    "K0 = 2\n",
    "alpha = 0.33\n",
    "first_results = [opt_save(A,b,rho,K0,alpha) for b in beta]\n",
    "first_results\n",
    "\n",
    "# creating a data frame, easier to plot later\n",
    "columns = ['1', '2']\n",
    "data = pd.DataFrame(first_results, columns = columns)\n",
    "data['Beta']= [0.25, 0.50, 0.75, 0.9, 0.95, 1]\n",
    "data =pd.melt(data, id_vars=['Beta'], value_vars=['1', '2'], value_name='Gross_Interest_Rate',var_name='Time_Period')"
   ]
  },
  {
   "cell_type": "code",
   "execution_count": 11,
   "metadata": {},
   "outputs": [
    {
     "data": {
      "text/html": [
       "<div>\n",
       "<style scoped>\n",
       "    .dataframe tbody tr th:only-of-type {\n",
       "        vertical-align: middle;\n",
       "    }\n",
       "\n",
       "    .dataframe tbody tr th {\n",
       "        vertical-align: top;\n",
       "    }\n",
       "\n",
       "    .dataframe thead th {\n",
       "        text-align: right;\n",
       "    }\n",
       "</style>\n",
       "<table border=\"1\" class=\"dataframe\">\n",
       "  <thead>\n",
       "    <tr style=\"text-align: right;\">\n",
       "      <th></th>\n",
       "      <th>Beta</th>\n",
       "      <th>Time_Period</th>\n",
       "      <th>Gross_Interest_Rate</th>\n",
       "    </tr>\n",
       "  </thead>\n",
       "  <tbody>\n",
       "    <tr>\n",
       "      <th>0</th>\n",
       "      <td>0.250</td>\n",
       "      <td>1</td>\n",
       "      <td>2.801</td>\n",
       "    </tr>\n",
       "    <tr>\n",
       "      <th>1</th>\n",
       "      <td>0.500</td>\n",
       "      <td>1</td>\n",
       "      <td>1.750</td>\n",
       "    </tr>\n",
       "    <tr>\n",
       "      <th>2</th>\n",
       "      <td>0.750</td>\n",
       "      <td>1</td>\n",
       "      <td>1.343</td>\n",
       "    </tr>\n",
       "    <tr>\n",
       "      <th>3</th>\n",
       "      <td>0.900</td>\n",
       "      <td>1</td>\n",
       "      <td>1.198</td>\n",
       "    </tr>\n",
       "    <tr>\n",
       "      <th>4</th>\n",
       "      <td>0.950</td>\n",
       "      <td>1</td>\n",
       "      <td>1.159</td>\n",
       "    </tr>\n",
       "    <tr>\n",
       "      <th>5</th>\n",
       "      <td>1.000</td>\n",
       "      <td>1</td>\n",
       "      <td>1.123</td>\n",
       "    </tr>\n",
       "    <tr>\n",
       "      <th>6</th>\n",
       "      <td>0.250</td>\n",
       "      <td>2</td>\n",
       "      <td>3.766</td>\n",
       "    </tr>\n",
       "    <tr>\n",
       "      <th>7</th>\n",
       "      <td>0.500</td>\n",
       "      <td>2</td>\n",
       "      <td>2.113</td>\n",
       "    </tr>\n",
       "    <tr>\n",
       "      <th>8</th>\n",
       "      <td>0.750</td>\n",
       "      <td>2</td>\n",
       "      <td>1.537</td>\n",
       "    </tr>\n",
       "    <tr>\n",
       "      <th>9</th>\n",
       "      <td>0.900</td>\n",
       "      <td>2</td>\n",
       "      <td>1.341</td>\n",
       "    </tr>\n",
       "    <tr>\n",
       "      <th>10</th>\n",
       "      <td>0.950</td>\n",
       "      <td>2</td>\n",
       "      <td>1.289</td>\n",
       "    </tr>\n",
       "    <tr>\n",
       "      <th>11</th>\n",
       "      <td>1.000</td>\n",
       "      <td>2</td>\n",
       "      <td>1.243</td>\n",
       "    </tr>\n",
       "  </tbody>\n",
       "</table>\n",
       "</div>"
      ],
      "text/plain": [
       "    Beta Time_Period  Gross_Interest_Rate\n",
       "0  0.250           1                2.801\n",
       "1  0.500           1                1.750\n",
       "2  0.750           1                1.343\n",
       "3  0.900           1                1.198\n",
       "4  0.950           1                1.159\n",
       "5  1.000           1                1.123\n",
       "6  0.250           2                3.766\n",
       "7  0.500           2                2.113\n",
       "8  0.750           2                1.537\n",
       "9  0.900           2                1.341\n",
       "10 0.950           2                1.289\n",
       "11 1.000           2                1.243"
      ]
     },
     "execution_count": 11,
     "metadata": {},
     "output_type": "execute_result"
    }
   ],
   "source": [
    "data"
   ]
  },
  {
   "cell_type": "code",
   "execution_count": 12,
   "metadata": {
    "scrolled": false
   },
   "outputs": [
    {
     "data": {
      "text/plain": [
       "<matplotlib.legend.Legend at 0x7fd0aec9e040>"
      ]
     },
     "execution_count": 12,
     "metadata": {},
     "output_type": "execute_result"
    },
    {
     "data": {
      "image/png": "[encoded data removed]",
      "text/plain": [
       "<Figure size 432x288 with 1 Axes>"
      ]
     },
     "metadata": {
      "needs_background": "light"
     },
     "output_type": "display_data"
    }
   ],
   "source": [
    "import seaborn as sns\n",
    "# Seaborn makes nice plots from pandas data frames, typically using less code than straight matplotlib and colors look better\n",
    "ax = sns.barplot(x='Beta', y='Gross_Interest_Rate', hue='Time_Period',data=data, palette = 'Blues_d')\n",
    "plt.legend(bbox_to_anchor=(1.05, 1), loc=2, borderaxespad=0.) # this keeps the legend off the plot"
   ]
  },
  {
   "cell_type": "markdown",
   "metadata": {},
   "source": [
    "The $\\beta$ represents the discount rate. When the discount rate is low (smaller $\\beta$), we place more emphasis on present consumption as opposed to future consumption. The consumption plan is to spend more in time 0 and less in time 2. When the discount rate is high (larger $\\beta$), we place more emphasis on future consumption, spend less in the present and save more. So the consumption plan is to spend less in time 0, save, and then spend more in time 1 and time 2."
   ]
  },
  {
   "cell_type": "markdown",
   "metadata": {},
   "source": [
    "### Second Change (change in $\\rho$)"
   ]
  },
  {
   "cell_type": "code",
   "execution_count": 13,
   "metadata": {},
   "outputs": [],
   "source": [
    "# setting up the initial parameters, with a focus on rho (going to cycle through a couple of different, lesser, values)\n",
    "A  = 6\n",
    "beta = 0.9\n",
    "rho = [0, 0.25,0.5, 0.75,0.9, 1]\n",
    "K0 = 2\n",
    "alpha = 0.33\n",
    "first_results = [opt_save(A,beta,r,K0,alpha) for r in rho]\n",
    "first_results\n",
    "\n",
    "# Creating a data frame, easier to plot it later this way\n",
    "columns = ['1', '2']\n",
    "data = pd.DataFrame(first_results, columns = columns)\n",
    "data['Rho']= [0, 0.25,0.5, 0.75,0.9, 1]\n",
    "data =pd.melt(data, id_vars=['Rho'], value_vars=['1', '2'],value_name='Gross_Interest_Rate', var_name='Time_Period')"
   ]
  },
  {
   "cell_type": "code",
   "execution_count": 14,
   "metadata": {},
   "outputs": [
    {
     "data": {
      "text/html": [
       "<div>\n",
       "<style scoped>\n",
       "    .dataframe tbody tr th:only-of-type {\n",
       "        vertical-align: middle;\n",
       "    }\n",
       "\n",
       "    .dataframe tbody tr th {\n",
       "        vertical-align: top;\n",
       "    }\n",
       "\n",
       "    .dataframe thead th {\n",
       "        text-align: right;\n",
       "    }\n",
       "</style>\n",
       "<table border=\"1\" class=\"dataframe\">\n",
       "  <thead>\n",
       "    <tr style=\"text-align: right;\">\n",
       "      <th></th>\n",
       "      <th>Rho</th>\n",
       "      <th>Time_Period</th>\n",
       "      <th>Gross_Interest_Rate</th>\n",
       "    </tr>\n",
       "  </thead>\n",
       "  <tbody>\n",
       "    <tr>\n",
       "      <th>0</th>\n",
       "      <td>0.000</td>\n",
       "      <td>1</td>\n",
       "      <td>1.111</td>\n",
       "    </tr>\n",
       "    <tr>\n",
       "      <th>1</th>\n",
       "      <td>0.250</td>\n",
       "      <td>1</td>\n",
       "      <td>1.137</td>\n",
       "    </tr>\n",
       "    <tr>\n",
       "      <th>2</th>\n",
       "      <td>0.500</td>\n",
       "      <td>1</td>\n",
       "      <td>1.163</td>\n",
       "    </tr>\n",
       "    <tr>\n",
       "      <th>3</th>\n",
       "      <td>0.750</td>\n",
       "      <td>1</td>\n",
       "      <td>1.185</td>\n",
       "    </tr>\n",
       "    <tr>\n",
       "      <th>4</th>\n",
       "      <td>0.900</td>\n",
       "      <td>1</td>\n",
       "      <td>1.198</td>\n",
       "    </tr>\n",
       "    <tr>\n",
       "      <th>5</th>\n",
       "      <td>1.000</td>\n",
       "      <td>1</td>\n",
       "      <td>1.205</td>\n",
       "    </tr>\n",
       "    <tr>\n",
       "      <th>6</th>\n",
       "      <td>0.000</td>\n",
       "      <td>2</td>\n",
       "      <td>1.111</td>\n",
       "    </tr>\n",
       "    <tr>\n",
       "      <th>7</th>\n",
       "      <td>0.250</td>\n",
       "      <td>2</td>\n",
       "      <td>1.195</td>\n",
       "    </tr>\n",
       "    <tr>\n",
       "      <th>8</th>\n",
       "      <td>0.500</td>\n",
       "      <td>2</td>\n",
       "      <td>1.260</td>\n",
       "    </tr>\n",
       "    <tr>\n",
       "      <th>9</th>\n",
       "      <td>0.750</td>\n",
       "      <td>2</td>\n",
       "      <td>1.313</td>\n",
       "    </tr>\n",
       "    <tr>\n",
       "      <th>10</th>\n",
       "      <td>0.900</td>\n",
       "      <td>2</td>\n",
       "      <td>1.341</td>\n",
       "    </tr>\n",
       "    <tr>\n",
       "      <th>11</th>\n",
       "      <td>1.000</td>\n",
       "      <td>2</td>\n",
       "      <td>1.359</td>\n",
       "    </tr>\n",
       "  </tbody>\n",
       "</table>\n",
       "</div>"
      ],
      "text/plain": [
       "     Rho Time_Period  Gross_Interest_Rate\n",
       "0  0.000           1                1.111\n",
       "1  0.250           1                1.137\n",
       "2  0.500           1                1.163\n",
       "3  0.750           1                1.185\n",
       "4  0.900           1                1.198\n",
       "5  1.000           1                1.205\n",
       "6  0.000           2                1.111\n",
       "7  0.250           2                1.195\n",
       "8  0.500           2                1.260\n",
       "9  0.750           2                1.313\n",
       "10 0.900           2                1.341\n",
       "11 1.000           2                1.359"
      ]
     },
     "execution_count": 14,
     "metadata": {},
     "output_type": "execute_result"
    }
   ],
   "source": [
    "data"
   ]
  },
  {
   "cell_type": "code",
   "execution_count": 15,
   "metadata": {
    "scrolled": true
   },
   "outputs": [
    {
     "data": {
      "text/plain": [
       "<matplotlib.legend.Legend at 0x7fd0ae79eaf0>"
      ]
     },
     "execution_count": 15,
     "metadata": {},
     "output_type": "execute_result"
    },
    {
     "data": {
      "image/png": "[encoded data removed]",
      "text/plain": [
       "<Figure size 432x288 with 1 Axes>"
      ]
     },
     "metadata": {
      "needs_background": "light"
     },
     "output_type": "display_data"
    }
   ],
   "source": [
    "# Seaborn makes nice plots from pandas data frames, this time for change in rho\n",
    "ax = sns.barplot(x='Rho', y='Gross_Interest_Rate', hue='Time_Period',data=data, palette = 'deep')\n",
    "plt.legend(bbox_to_anchor=(1.05, 1), loc=2, borderaxespad=0.)"
   ]
  },
  {
   "cell_type": "markdown",
   "metadata": {},
   "source": [
    "Increasing the $\\rho$ parameter increases the gross interest rate at time 1 and time 2. $\\rho$ represents the elasticity of substitution. If you become elastic to consuming now or later, you'd be more likely to save money and take advantage of interest rates. Consuming more later rather than now."
   ]
  },
  {
   "cell_type": "markdown",
   "metadata": {},
   "source": [
    "### Third and Final Change (change in $A$)"
   ]
  },
  {
   "cell_type": "code",
   "execution_count": 16,
   "metadata": {},
   "outputs": [],
   "source": [
    "# setting up the initial parameters, with a focus on A (going to cycle through a couple of different, lesser, values)\n",
    "A  = [5, 5.5, 6,10]\n",
    "beta = 0.9\n",
    "rho = 0.9\n",
    "K0 = 2\n",
    "alpha = 0.33\n",
    "first_results = [opt_save(a,beta,rho,K0,alpha) for a in A]\n",
    "first_results\n",
    "\n",
    "# Creating a data frame, easier to plot it later this way\n",
    "columns = ['1', '2']\n",
    "data = pd.DataFrame(first_results, columns = columns)\n",
    "data['A']= [5, 5.5, 6,10]\n",
    "data =pd.melt(data, id_vars=['A'], value_vars=['1', '2'],value_name='Gross_Interest_Rate', var_name='Time_Period')"
   ]
  },
  {
   "cell_type": "code",
   "execution_count": 17,
   "metadata": {},
   "outputs": [
    {
     "data": {
      "text/html": [
       "<div>\n",
       "<style scoped>\n",
       "    .dataframe tbody tr th:only-of-type {\n",
       "        vertical-align: middle;\n",
       "    }\n",
       "\n",
       "    .dataframe tbody tr th {\n",
       "        vertical-align: top;\n",
       "    }\n",
       "\n",
       "    .dataframe thead th {\n",
       "        text-align: right;\n",
       "    }\n",
       "</style>\n",
       "<table border=\"1\" class=\"dataframe\">\n",
       "  <thead>\n",
       "    <tr style=\"text-align: right;\">\n",
       "      <th></th>\n",
       "      <th>A</th>\n",
       "      <th>Time_Period</th>\n",
       "      <th>Gross_Interest_Rate</th>\n",
       "    </tr>\n",
       "  </thead>\n",
       "  <tbody>\n",
       "    <tr>\n",
       "      <th>0</th>\n",
       "      <td>5.000</td>\n",
       "      <td>1</td>\n",
       "      <td>1.132</td>\n",
       "    </tr>\n",
       "    <tr>\n",
       "      <th>1</th>\n",
       "      <td>5.500</td>\n",
       "      <td>1</td>\n",
       "      <td>1.166</td>\n",
       "    </tr>\n",
       "    <tr>\n",
       "      <th>2</th>\n",
       "      <td>6.000</td>\n",
       "      <td>1</td>\n",
       "      <td>1.198</td>\n",
       "    </tr>\n",
       "    <tr>\n",
       "      <th>3</th>\n",
       "      <td>10.000</td>\n",
       "      <td>1</td>\n",
       "      <td>1.405</td>\n",
       "    </tr>\n",
       "    <tr>\n",
       "      <th>4</th>\n",
       "      <td>5.000</td>\n",
       "      <td>2</td>\n",
       "      <td>1.318</td>\n",
       "    </tr>\n",
       "    <tr>\n",
       "      <th>5</th>\n",
       "      <td>5.500</td>\n",
       "      <td>2</td>\n",
       "      <td>1.330</td>\n",
       "    </tr>\n",
       "    <tr>\n",
       "      <th>6</th>\n",
       "      <td>6.000</td>\n",
       "      <td>2</td>\n",
       "      <td>1.341</td>\n",
       "    </tr>\n",
       "    <tr>\n",
       "      <th>7</th>\n",
       "      <td>10.000</td>\n",
       "      <td>2</td>\n",
       "      <td>1.410</td>\n",
       "    </tr>\n",
       "  </tbody>\n",
       "</table>\n",
       "</div>"
      ],
      "text/plain": [
       "       A Time_Period  Gross_Interest_Rate\n",
       "0  5.000           1                1.132\n",
       "1  5.500           1                1.166\n",
       "2  6.000           1                1.198\n",
       "3 10.000           1                1.405\n",
       "4  5.000           2                1.318\n",
       "5  5.500           2                1.330\n",
       "6  6.000           2                1.341\n",
       "7 10.000           2                1.410"
      ]
     },
     "execution_count": 17,
     "metadata": {},
     "output_type": "execute_result"
    }
   ],
   "source": [
    "data # table is smaller, A values had a tendency to break the optimization function for whatever reason"
   ]
  },
  {
   "cell_type": "code",
   "execution_count": 18,
   "metadata": {},
   "outputs": [
    {
     "data": {
      "text/plain": [
       "<matplotlib.legend.Legend at 0x7fd0b1460ac0>"
      ]
     },
     "execution_count": 18,
     "metadata": {},
     "output_type": "execute_result"
    },
    {
     "data": {
      "image/png": "[encoded data removed]",
      "text/plain": [
       "<Figure size 432x288 with 1 Axes>"
      ]
     },
     "metadata": {
      "needs_background": "light"
     },
     "output_type": "display_data"
    }
   ],
   "source": [
    "ax = sns.barplot(x='A', y='Gross_Interest_Rate', hue='Time_Period',data=data, palette = 'bright')\n",
    "plt.legend(bbox_to_anchor=(1.05, 1), loc=2, borderaxespad=0.)"
   ]
  },
  {
   "cell_type": "markdown",
   "metadata": {},
   "source": [
    "Changing the $A$ parameter has a minor affect on the Gross Interest Rate. That makes sense since the A parameter just scales the constraint (see the constraints in the function opt_save). It only slightly changed the interest rate. So this result makes sense. "
   ]
  }
 ],
 "metadata": {
  "kernelspec": {
   "display_name": "Python 3",
   "language": "python",
   "name": "python3"
  },
  "language_info": {
   "codemirror_mode": {
    "name": "ipython",
    "version": 3
   },
   "file_extension": ".py",
   "mimetype": "text/x-python",
   "name": "python",
   "nbconvert_exporter": "python",
   "pygments_lexer": "ipython3",
   "version": "3.8.3"
  }
 },
 "nbformat": 4,
 "nbformat_minor": 4
}

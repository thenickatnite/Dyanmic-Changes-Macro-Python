{
 "cells": [
  {
   "cell_type": "code",
   "execution_count": 2,
   "metadata": {},
   "outputs": [],
   "source": [
    "import numpy as np"
   ]
  },
  {
   "cell_type": "markdown",
   "metadata": {},
   "source": [
    "# Magic Cake Problem\n",
    "**Nick Brown**\n",
    "**GSE 512**  \n",
    "\n",
    "You have this utility function:\n",
    "$$E[\\sum_{t=0}^{\\infty} \\beta^t u(c_t)]$$\n",
    "\n",
    "and a nice genie has given you a magic cake. The cakes size at time 0 is $y_0 z_0$, a known number. You get to eat a piece of any size from that initial cake.  The genie waves her magic wand over night, and she shocks the cake with a multiplicative random variable $z_t$ whose logarithm is independently and identically distributed $N \\sim (\\mu, \\sigma^2)$. Your goal is to maximize expected utility.\n",
    "\n",
    "Describe this problem as a dynamic program:\n",
    "\n",
    "What is the state?  \n",
    "> The state space is denoted as $X$. In this specific scenario, the state space would be the size of the cake that we start out with ($y_0 z_0$).\n",
    "\n",
    "What is the control?  \n",
    "> The control is denoted as $U$. In this scenario, $U$ would represent the amount of cake we choose to eat subject to the size of the cake. We can't eat more than the whole cake.\n",
    "\n",
    "What is the law of motion?  \n",
    "> The law of motion is some rule for transition into the next period. So for this problem the law of motion is the random multiplicative shock that the genie does to the remaining cake each day ($z_t \\times (y_0 - c_0)$).\n",
    "\n",
    "What is the reward? \n",
    "> The reward is denoted as r, and is defined as $r: X \\times U \\rightarrow \\mathbb{R}$. The interpretation of $r(x,u)$ is the reward in state $x \\in X$ if I pick control $u \\in U$. So if I have 10 pounds of cake, and choose to eat a quarter of it, $r$ would represent the reward for that choise.\n",
    "\n",
    "What is the discount factor?  \n",
    "> The discount factor represents how much I discount forgoing current felicity in favor of future felicity. The discount factor is usually denoted as $\\beta$. Can be thought about as how much of current consumption I give up for the promise of future consumption."
   ]
  },
  {
   "cell_type": "markdown",
   "metadata": {},
   "source": [
    "Write Bellman's equation for this problem.\n",
    "\n",
    ">$$V(x_t) = max_{0 \\le c \\le x} \\{u(c) + \\beta V(x-c)\\}$$\n",
    ">\n",
    ">Where $V(\\cdot)$ represents a value function, which for each $c$ given $x$ it gives the maximized expected value of following the optimal plan, now and in the future. "
   ]
  },
  {
   "cell_type": "markdown",
   "metadata": {},
   "source": [
    "Guess that the optimal policy is to eat a constant fraction of the magic cake in every period. Assume that:\n",
    "$$u(c) = \\frac{c^{1-r} - 1}{1-r}$$\n",
    "for $r \\ge 0$. Fix $y_o z_0 = 10$, $r=2$, $\\beta = 0.97$, $\\mu = 0$, and $\\sigma = 0.1$. Using np.random.seed(1234), generate a fixed sequence of 100 log normally distributed random variables. Use Python to search for the fraction that maximizes the expected reward for that fixed sequence.  You can work together.  Please indicate joint submissions clearly.  You will find a lot of code on Sargent's web page that will help you with aspects of this problem."
   ]
  },
  {
   "cell_type": "code",
   "execution_count": 3,
   "metadata": {},
   "outputs": [],
   "source": [
    "# Finding fraction that maximizes the expected reward for that fixed sequence\n",
    "y_0_z_0 = 10 # initial value\n",
    "r = 2 # reward curvature\n",
    "beta = 0.97 # discount factor\n",
    "mu = 0 # mu for use in generating log-normal sequence\n",
    "sigma = 0.1 # the sigma used\n",
    "T = 100 # time horizon\n",
    "\n",
    "np.random.seed(1234)\n",
    "sequence = np.random.lognormal(mu, sigma, 100)"
   ]
  },
  {
   "cell_type": "code",
   "execution_count": 4,
   "metadata": {},
   "outputs": [
    {
     "data": {
      "text/plain": [
       "array([1.04827244, 0.88772118, 1.15404215, 0.96921851, 0.93047611,\n",
       "       1.09277059, 1.08976147, 0.93833115, 1.00157087, 0.79910055,\n",
       "       1.12187745, 1.10428117, 1.10002446, 0.8169924 , 0.96714414,\n",
       "       1.00021186, 1.04137853, 1.02933112, 1.14124049, 0.85668023,\n",
       "       0.97993932, 0.93650826, 1.01953041, 1.05690401, 1.14089741,\n",
       "       0.95415368, 1.06988954, 0.83384919, 0.98185577, 1.11170727,\n",
       "       0.96099697, 1.03431954, 1.11044169, 1.11025956, 1.09021152,\n",
       "       0.98786507, 1.01254939, 0.96823594, 1.08781106, 1.27010053,\n",
       "       1.00764906, 0.94492984, 1.00362073, 0.81261506, 1.02508878,\n",
       "       0.91419107, 0.98641366, 1.00183059, 1.07846787, 1.02176023,\n",
       "       1.08773862, 0.86538481, 0.8691867 , 0.98995893, 0.94665151,\n",
       "       0.98564212, 1.03603615, 0.996455  , 1.05820474, 1.16715117,\n",
       "       0.90717162, 0.9929902 , 1.03127602, 0.97936598, 1.1089128 ,\n",
       "       0.78659218, 1.22514642, 0.89202321, 1.02141441, 1.07301459,\n",
       "       0.92446183, 1.0472901 , 1.07296176, 1.05374533, 0.91153487,\n",
       "       1.22236107, 1.02295577, 0.89112915, 1.06523768, 1.00395909,\n",
       "       1.04753442, 0.70022633, 1.14123449, 1.01538013, 1.01658905,\n",
       "       0.95790222, 1.07975793, 1.10350556, 1.02745368, 1.14935236,\n",
       "       1.00801619, 0.96079284, 0.9023209 , 0.94320482, 1.08508616,\n",
       "       0.99183878, 0.96611095, 1.05424916, 0.89861654, 0.95009991])"
      ]
     },
     "execution_count": 4,
     "metadata": {},
     "output_type": "execute_result"
    }
   ],
   "source": [
    "sequence"
   ]
  },
  {
   "cell_type": "code",
   "execution_count": 5,
   "metadata": {},
   "outputs": [],
   "source": [
    "def felicity(c,r):\n",
    "    \"\"\"\n",
    "    This function gives us our felicity given amount of consumtion, and r, reward.\n",
    "    \"\"\"\n",
    "    u = (c**(1-r) - 1) / (1-r)\n",
    "    return u"
   ]
  },
  {
   "cell_type": "code",
   "execution_count": 6,
   "metadata": {},
   "outputs": [],
   "source": [
    "def bigU(c,beta,r,T):\n",
    "    \"\"\"\n",
    "    c is a sequence (planned consumption)\n",
    "    beta is the discount factor\n",
    "    r is the reward curvature\n",
    "    T is the time period\n",
    "    \"\"\"\n",
    "    U = 0\n",
    "    for t in range(T):\n",
    "        eric = beta**(t)*felicity(c[t],r)\n",
    "        U += eric\n",
    "\n",
    "    return U"
   ]
  },
  {
   "cell_type": "code",
   "execution_count": 7,
   "metadata": {},
   "outputs": [],
   "source": [
    "# Law of motion\n",
    "\n",
    "def motion(z,share):\n",
    "    \"\"\"\n",
    "    Where z equals a sequence of numbers, in this case representing random shocks to the size of the cake\n",
    "    share represents the consumption share we choose for this problem\n",
    "    \"\"\"\n",
    "    T = len(z) # time horizion\n",
    "    c = [] # empty list\n",
    "    y_0 = 10\n",
    "    c_0 = share*y_0\n",
    "    c.append(c_0)\n",
    "    for t in range(T):\n",
    "        y_1 = z[t] * (y_0 - c_0)\n",
    "        c_1 = share*y_1\n",
    "        c.append(c_1)\n",
    "        y_0 = y_1\n",
    "        c_0 = c_1\n",
    "        \n",
    "    return c"
   ]
  },
  {
   "cell_type": "markdown",
   "metadata": {},
   "source": [
    "Getting an idea on the amount of utility we receive based on the consistent consumption share we choose."
   ]
  },
  {
   "cell_type": "code",
   "execution_count": 8,
   "metadata": {
    "scrolled": true
   },
   "outputs": [
    {
     "data": {
      "text/plain": [
       "-8.206221105554276e+27"
      ]
     },
     "execution_count": 8,
     "metadata": {},
     "output_type": "execute_result"
    }
   ],
   "source": [
    "c = motion(sequence, 0.5)\n",
    "bigU(c, beta, r, T)"
   ]
  },
  {
   "cell_type": "code",
   "execution_count": 9,
   "metadata": {},
   "outputs": [
    {
     "data": {
      "text/plain": [
       "-15222.37030164996"
      ]
     },
     "execution_count": 9,
     "metadata": {},
     "output_type": "execute_result"
    }
   ],
   "source": [
    "c = motion(sequence, 0.10)\n",
    "bigU(c, beta, r, T)"
   ]
  },
  {
   "cell_type": "code",
   "execution_count": 10,
   "metadata": {},
   "outputs": [
    {
     "data": {
      "text/plain": [
       "-6672.007810396796"
      ]
     },
     "execution_count": 10,
     "metadata": {},
     "output_type": "execute_result"
    }
   ],
   "source": [
    "c = motion(sequence, 0.09)\n",
    "bigU(c, beta, r, T)"
   ]
  },
  {
   "cell_type": "code",
   "execution_count": 11,
   "metadata": {
    "scrolled": true
   },
   "outputs": [
    {
     "data": {
      "text/plain": [
       "-2.8696304819261875e+17"
      ]
     },
     "execution_count": 11,
     "metadata": {},
     "output_type": "execute_result"
    }
   ],
   "source": [
    "c = motion(sequence, 0.00000000000000001)\n",
    "bigU(c, beta, r, T)"
   ]
  },
  {
   "cell_type": "markdown",
   "metadata": {},
   "source": [
    "Now creating a loop to find the maximum value of utility, given a range where we think that utility could be (0.001 to 0.10)."
   ]
  },
  {
   "cell_type": "code",
   "execution_count": 12,
   "metadata": {},
   "outputs": [],
   "source": [
    "# can limit our search for the optimal utility here\n",
    "X = np.linspace(0.001, 0.10, num = 10000)\n",
    "U = []\n",
    "for x in X:\n",
    "    c = motion(sequence, x)\n",
    "    u = bigU(c,beta,r,T)\n",
    "    U.append(u)\n",
    "\n",
    "# converting list to an array and finding the max value of utility and the associated level of consumption\n",
    "U = np.array(U)\n",
    "max_utility = np.max(U)\n",
    "ind = np.argmax(U)\n",
    "cons_share = X[ind]"
   ]
  },
  {
   "cell_type": "code",
   "execution_count": 13,
   "metadata": {
    "scrolled": true
   },
   "outputs": [
    {
     "name": "stdout",
     "output_type": "stream",
     "text": [
      "Our maximum utility from the Cake problem is: -227.20878858840354\n",
      "Our consistent consumption share is: 0.02416831683168317\n"
     ]
    }
   ],
   "source": [
    "print('Our maximum utility from the Cake problem is:',max_utility)\n",
    "print('Our consistent consumption share is:', cons_share)"
   ]
  },
  {
   "cell_type": "markdown",
   "metadata": {},
   "source": [
    "So our utility is negative, but it could be worse. Each day for 100 days, we eat roughly 2.4% of the magic cake (subsistence levels of eating, but beats starvation). "
   ]
  }
 ],
 "metadata": {
  "kernelspec": {
   "display_name": "Python 3",
   "language": "python",
   "name": "python3"
  },
  "language_info": {
   "codemirror_mode": {
    "name": "ipython",
    "version": 3
   },
   "file_extension": ".py",
   "mimetype": "text/x-python",
   "name": "python",
   "nbconvert_exporter": "python",
   "pygments_lexer": "ipython3",
   "version": "3.8.3"
  }
 },
 "nbformat": 4,
 "nbformat_minor": 4
}

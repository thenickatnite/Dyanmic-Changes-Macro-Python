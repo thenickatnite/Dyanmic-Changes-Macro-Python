{
 "cells": [
  {
   "cell_type": "markdown",
   "metadata": {},
   "source": [
    "# Economic Effects of a Year-Long Lockdown\n",
    "Nick Brown  \n",
    "GSE 512"
   ]
  },
  {
   "cell_type": "markdown",
   "metadata": {},
   "source": [
    "### General setup, importing the libraries we'll need for this "
   ]
  },
  {
   "cell_type": "code",
   "execution_count": 1,
   "metadata": {},
   "outputs": [],
   "source": [
    "import numpy as np\n",
    "from scipy.linalg import null_space # need this for the ergodic distribution\n",
    "import pandas as pd  #need Pandas for pretty tables\n",
    "import matplotlib.pyplot as plt\n",
    "plt.rcParams['figure.figsize'] = (10,6)"
   ]
  },
  {
   "cell_type": "markdown",
   "metadata": {},
   "source": [
    "### 1. Import the Data"
   ]
  },
  {
   "cell_type": "code",
   "execution_count": 2,
   "metadata": {},
   "outputs": [],
   "source": [
    "df = pd.read_csv('GDP_cycle.csv')\n",
    "df = df.rename(columns = {\"Unnamed: 0\": \"Date\", \"GDP cycle\": \"GDP_cycle\"})\n",
    "df.head()\n",
    "Y = df['GDP_cycle']"
   ]
  },
  {
   "cell_type": "markdown",
   "metadata": {},
   "source": [
    "### 2. Create a Histogram with 5 bins"
   ]
  },
  {
   "cell_type": "code",
   "execution_count": 3,
   "metadata": {
    "scrolled": true
   },
   "outputs": [
    {
     "data": {
      "image/png": "[encoded data removed]",
      "text/plain": [
       "<Figure size 720x432 with 1 Axes>"
      ]
     },
     "metadata": {
      "needs_background": "light"
     },
     "output_type": "display_data"
    }
   ],
   "source": [
    "plt.hist(Y, bins = 5)\n",
    "plt.show()"
   ]
  },
  {
   "cell_type": "markdown",
   "metadata": {},
   "source": [
    "Now I'm going to get the cutoff zones for each bins. This is so I can create the economic states later on using a loop. "
   ]
  },
  {
   "cell_type": "code",
   "execution_count": 4,
   "metadata": {},
   "outputs": [
    {
     "data": {
      "text/plain": [
       "array([-0.06186674, -0.03709595, -0.01232517,  0.01244561,  0.0372164 ])"
      ]
     },
     "execution_count": 4,
     "metadata": {},
     "output_type": "execute_result"
    }
   ],
   "source": [
    "n, p = np.histogram(Y, bins = 5)\n",
    "z = p[1:6]\n",
    "z"
   ]
  },
  {
   "cell_type": "markdown",
   "metadata": {},
   "source": [
    "### 3. Classify the States"
   ]
  },
  {
   "cell_type": "code",
   "execution_count": 5,
   "metadata": {
    "scrolled": true
   },
   "outputs": [
    {
     "data": {
      "text/plain": [
       "array([4., 4., 4., 3., 2., 2., 1., 1., 2., 2., 3., 4., 4., 4., 4., 4., 4.,\n",
       "       3., 3., 4., 4., 4., 4., 3., 2., 2., 2., 2., 3., 4., 4., 4., 3., 3.,\n",
       "       3., 4., 4., 3., 3., 3., 1., 1., 2., 3., 3., 4., 3., 3., 4., 3., 3.,\n",
       "       2., 2., 2., 3., 3., 3., 3., 3., 3., 3., 3., 3., 3., 3., 3., 3., 2.,\n",
       "       3., 3., 3., 4., 4., 4., 4., 3., 3., 3., 3., 3., 3., 4., 4., 3., 4.,\n",
       "       3., 3., 3., 3., 2., 2., 2., 2., 2., 2., 2., 3., 3., 3., 4., 4., 4.,\n",
       "       4., 4., 3., 3., 3., 2., 1., 1., 2., 2., 3., 3., 2., 2., 3., 3., 3.,\n",
       "       3., 3., 4., 4., 4., 4., 4., 4., 4., 4., 3., 3., 3., 4., 3., 3., 3.,\n",
       "       2., 2., 1., 1., 1., 2., 2., 3., 3., 3., 3., 3., 3., 3., 3., 3., 3.,\n",
       "       3., 3., 3., 3., 3., 3., 3., 3., 3., 3., 3., 4., 4., 4., 3., 4., 4.,\n",
       "       3., 3., 2., 2., 2., 2., 3., 3., 3., 3., 3., 3., 3., 3., 3., 3., 3.,\n",
       "       3., 3., 3., 3., 3., 3., 3., 3., 3., 3., 3., 3., 3., 3., 3., 3., 3.,\n",
       "       3., 3., 3., 4., 4., 4., 4., 4., 3., 3., 3., 3., 3., 3., 2., 2., 2.,\n",
       "       2., 3., 3., 3., 3., 3., 3., 3., 3., 3., 3., 4., 4., 3., 4., 4., 4.,\n",
       "       4., 4., 4., 4., 3., 3., 2., 2., 2., 2., 2., 3., 3., 3., 3., 3., 3.,\n",
       "       3., 3., 3., 3., 3., 3., 3., 3., 3., 3., 3., 3., 3., 3., 3., 3., 3.,\n",
       "       3., 3., 3., 3., 3., 3., 3., 3., 3., 4., 4., 4., 4., 4., 4., 4., 3.,\n",
       "       0., 2., 3.])"
      ]
     },
     "execution_count": 5,
     "metadata": {},
     "output_type": "execute_result"
    }
   ],
   "source": [
    "n=len(z)  # number of groups, 5 in this case with Covid being the lone observation in group 0\n",
    "states = np.zeros(len(Y))\n",
    "for i in range(n):\n",
    "        if i == 0:\n",
    "            states[np.less_equal(Y,z[i])]=i  #these observations are in the first quartile\n",
    "        states[np.logical_and(np.greater(Y,z[i-1]),np.less_equal(Y,z[i]))]=i\n",
    "        #nice use of array-oriented logical functions\n",
    "states # the states looks good"
   ]
  },
  {
   "cell_type": "markdown",
   "metadata": {},
   "source": [
    "### 4. Estimate the Markov Matrix and find its Ergodic Distribution"
   ]
  },
  {
   "cell_type": "code",
   "execution_count": 6,
   "metadata": {},
   "outputs": [],
   "source": [
    "# A function that creates Markov matrices after giving it the states and dimensions of the matrix.\n",
    "def estimate_markov(x,dim):\n",
    "    \"\"\"\n",
    "    x is the data classified by state\n",
    "    dim is the dimension of the classification\n",
    "    \n",
    "    \"\"\"\n",
    "    n=len(x) # number of observations\n",
    "    m=np.zeros((dim,dim))  # start out with a matrix full of zeros\n",
    "    for i in range (n-1): #there is no final transition\n",
    "        m[int(x[i]),int(x[i+1])] +=1 # increment the transition count\n",
    "    row_sums = sum(m.T)  # get row sums\n",
    "    m = m/row_sums[:,None]  #divides the rows of matrix m by vector row_sums\n",
    "    return(m)"
   ]
  },
  {
   "cell_type": "code",
   "execution_count": 7,
   "metadata": {},
   "outputs": [],
   "source": [
    "dim=len(z)\n",
    "m_usa=estimate_markov(states,dim)"
   ]
  },
  {
   "cell_type": "markdown",
   "metadata": {},
   "source": [
    "Here is our Markov matrix, with 5 states. This Markov Matrix is more representative of the US economy as compared to the one with 4 periods, each period with an equal number of observations."
   ]
  },
  {
   "cell_type": "code",
   "execution_count": 8,
   "metadata": {},
   "outputs": [
    {
     "data": {
      "text/plain": [
       "array([[0.        , 0.        , 1.        , 0.        , 0.        ],\n",
       "       [0.        , 0.55555556, 0.44444444, 0.        , 0.        ],\n",
       "       [0.        , 0.06976744, 0.62790698, 0.30232558, 0.        ],\n",
       "       [0.00584795, 0.00584795, 0.06432749, 0.81871345, 0.10526316],\n",
       "       [0.        , 0.        , 0.        , 0.28358209, 0.71641791]])"
      ]
     },
     "execution_count": 8,
     "metadata": {},
     "output_type": "execute_result"
    }
   ],
   "source": [
    "m_usa "
   ]
  },
  {
   "cell_type": "markdown",
   "metadata": {},
   "source": [
    "Now it's time to find the Ergodic distribution, and find the long-run probability of being in the \"Covid-state\" (state 0)."
   ]
  },
  {
   "cell_type": "code",
   "execution_count": 9,
   "metadata": {
    "scrolled": true
   },
   "outputs": [
    {
     "data": {
      "text/plain": [
       "array([[0.00347858],\n",
       "       [0.03130721],\n",
       "       [0.14957891],\n",
       "       [0.59483706],\n",
       "       [0.22079824]])"
      ]
     },
     "execution_count": 9,
     "metadata": {},
     "output_type": "execute_result"
    }
   ],
   "source": [
    "def ergodic(m):\n",
    "    \"\"\"\n",
    "    This code finds the ergodic distribution of a Markov matrix\n",
    "    It has a couple of important updates.\n",
    "    np.allclose() is a useful function \n",
    "    The calculation of the eigenvalues was subject to rounding error.\n",
    "    Now I use the left nullspace of m instead\n",
    "    \"\"\"\n",
    "    n=m.shape[0] # number of rows\n",
    "    T = 1000 # useful constant\n",
    "    if (m.shape[0] != m.shape[1]): #test for a square matrix\n",
    "        return('Matrix is not square') \n",
    "    if (not np.allclose(m@np.ones(n),np.ones(n))): #test row sums \n",
    "        return('This is not a Markov matrix')\n",
    "    if( not ((m >= 0).all() and (m <= 1).all())): #test probabilities\n",
    "        return('This is not a Markov matrix')\n",
    "    m_long = np.linalg.matrix_power(m,T)\n",
    "    if( not ((m_long > 0).all() and (m_long < 1).all())): #crude test for aperiodic and irreducible\n",
    "        return('This matrix may not be both aperiodic and irreducible')\n",
    "    m0=null_space(m.T-np.identity(5)) #need the nullspace of the rows.   That's why I transpose\n",
    "    return(m0/sum(m0)) # make it into a probability distribution\n",
    "\n",
    "long_run = ergodic(m_usa)\n",
    "long_run"
   ]
  },
  {
   "cell_type": "markdown",
   "metadata": {},
   "source": [
    "The long-run probability of being in a covid-state is 0.00348, pretty low all things considered."
   ]
  },
  {
   "cell_type": "markdown",
   "metadata": {},
   "source": [
    "### 5. Calculate the Consumption Vector"
   ]
  },
  {
   "cell_type": "code",
   "execution_count": 10,
   "metadata": {
    "scrolled": true
   },
   "outputs": [
    {
     "data": {
      "text/html": [
       "<div>\n",
       "<style scoped>\n",
       "    .dataframe tbody tr th:only-of-type {\n",
       "        vertical-align: middle;\n",
       "    }\n",
       "\n",
       "    .dataframe tbody tr th {\n",
       "        vertical-align: top;\n",
       "    }\n",
       "\n",
       "    .dataframe thead th {\n",
       "        text-align: right;\n",
       "    }\n",
       "</style>\n",
       "<table border=\"1\" class=\"dataframe\">\n",
       "  <thead>\n",
       "    <tr style=\"text-align: right;\">\n",
       "      <th></th>\n",
       "      <th>Date</th>\n",
       "      <th>GDP_cycle</th>\n",
       "      <th>states</th>\n",
       "    </tr>\n",
       "  </thead>\n",
       "  <tbody>\n",
       "    <tr>\n",
       "      <th>0</th>\n",
       "      <td>1948-01-01</td>\n",
       "      <td>0.020398</td>\n",
       "      <td>4.0</td>\n",
       "    </tr>\n",
       "    <tr>\n",
       "      <th>1</th>\n",
       "      <td>1948-04-01</td>\n",
       "      <td>0.024427</td>\n",
       "      <td>4.0</td>\n",
       "    </tr>\n",
       "    <tr>\n",
       "      <th>2</th>\n",
       "      <td>1948-07-01</td>\n",
       "      <td>0.017784</td>\n",
       "      <td>4.0</td>\n",
       "    </tr>\n",
       "    <tr>\n",
       "      <th>3</th>\n",
       "      <td>1948-10-01</td>\n",
       "      <td>0.006505</td>\n",
       "      <td>3.0</td>\n",
       "    </tr>\n",
       "    <tr>\n",
       "      <th>4</th>\n",
       "      <td>1949-01-01</td>\n",
       "      <td>-0.019847</td>\n",
       "      <td>2.0</td>\n",
       "    </tr>\n",
       "  </tbody>\n",
       "</table>\n",
       "</div>"
      ],
      "text/plain": [
       "         Date  GDP_cycle  states\n",
       "0  1948-01-01   0.020398     4.0\n",
       "1  1948-04-01   0.024427     4.0\n",
       "2  1948-07-01   0.017784     4.0\n",
       "3  1948-10-01   0.006505     3.0\n",
       "4  1949-01-01  -0.019847     2.0"
      ]
     },
     "execution_count": 10,
     "metadata": {},
     "output_type": "execute_result"
    }
   ],
   "source": [
    "df['states'] = states\n",
    "df.head()"
   ]
  },
  {
   "cell_type": "code",
   "execution_count": 11,
   "metadata": {
    "scrolled": true
   },
   "outputs": [
    {
     "data": {
      "text/plain": [
       "array([0.91700943, 0.95784949, 0.97929425, 1.00027525, 1.01999697])"
      ]
     },
     "execution_count": 11,
     "metadata": {},
     "output_type": "execute_result"
    }
   ],
   "source": [
    "# using PANDAS groupby and mean aggregate function to find the means of each state\n",
    "consumption_vector = np.array(np.exp(df.groupby('states')['GDP_cycle'].mean()))\n",
    "consumption_vector"
   ]
  },
  {
   "cell_type": "markdown",
   "metadata": {},
   "source": [
    "Here is our consumption vector with our consumption in each state. You can see by how much Covid reduced consumption, over 8%."
   ]
  },
  {
   "cell_type": "markdown",
   "metadata": {},
   "source": [
    "### Part 6\n",
    "Here's the asset pricing kernel.  Explain why the diagonal elements are all the same.  Explain also why the matrix is not symmetric.  Explain how the kernel depends upon the Markov matrix.  "
   ]
  },
  {
   "cell_type": "code",
   "execution_count": 12,
   "metadata": {
    "scrolled": true
   },
   "outputs": [
    {
     "data": {
      "text/plain": [
       "array([[0.99241412, 0.90959066, 0.87019008, 0.83406807, 0.80212633],\n",
       "       [1.08277913, 0.99241412, 0.94942589, 0.91001476, 0.87516454],\n",
       "       [1.13180534, 1.03734877, 0.99241412, 0.95121852, 0.91479035],\n",
       "       [1.18082183, 1.08227451, 1.03539382, 0.99241412, 0.95440831],\n",
       "       [1.22784372, 1.12537212, 1.07662458, 1.03193337, 0.99241412]])"
      ]
     },
     "execution_count": 12,
     "metadata": {},
     "output_type": "execute_result"
    }
   ],
   "source": [
    "K =np.array([[0.99241412, 0.90959066, 0.87019008, 0.83406807, 0.80212633],\n",
    "       [1.08277913, 0.99241412, 0.94942589, 0.91001476, 0.87516454],\n",
    "       [1.13180534, 1.03734877, 0.99241412, 0.95121852, 0.91479035],\n",
    "       [1.18082183, 1.08227451, 1.03539382, 0.99241412, 0.95440831],\n",
    "       [1.22784372, 1.12537212, 1.07662458, 1.03193337, 0.99241412]])\n",
    "K"
   ]
  },
  {
   "cell_type": "markdown",
   "metadata": {},
   "source": [
    "The diagonal elements are the same because of the way we define K, the asset pricing kernel: \n",
    "$$\n",
    "K =\n",
    "\\left[\n",
    "\\begin{array}{c}\n",
    "  \\dfrac{\\nabla U(c)}{\\partial U/ \\partial c_1 } \\\\\n",
    " \\vdots \\\\\n",
    "  \\dfrac{\\nabla U(c)}{\\partial U/ \\partial c_n } \\\\\n",
    "\\end{array}\n",
    "\\right]\n",
    "=\n",
    "\\left[\n",
    "\\begin{array}{ccc}\n",
    " \\beta \\dfrac{u'(c_1)}{u'(c_1)} & \\dots & \\beta \\dfrac{u'(c_n)}{u'(c_1)} \\\\\n",
    " \\vdots & \\vdots & \\vdots \\\\\n",
    " \\beta \\dfrac{u'(c_1)}{u'(c_n)} & \\dots & \\beta \\dfrac{u'(c_n)}{u'(c_n)} \\\\\n",
    "\\end{array}\n",
    "\\right]\n",
    "$$\n",
    "\n",
    "Each diagonal consists of the marginal felicity of the consumption vector, divided by the same marginal felicity. That equals 1, then multiplied by $\\beta$, the discount factor. So in this case, the discount factor appear to be 0.9924. \n",
    "\n",
    "The matrix is not symmetric, again because of the way K is defined. If we look at $K[0,1] = 0.909$ versus $K[1,0] = 1.082$ we can see the difference right away. $K[0,1]$ is defined as $\\beta \\frac{u'(c_1)}{u'(c_0)}$, where $c_0$ is the first entry in the consumption vector, and $c_1$ is the second entry (using Python indexing here, it's easier to be consistent). $K[1,0]$ on the other hand is defined as $\\beta \\frac{u'(c_0)}{u'(c_1)}$. This will obviously get us different figures because we're switching the order of the division.\n",
    "\n",
    "The pricing kernel, as show above, depends on the consumption vector consisting of consumption in each state of the economy. In part 5, we created the consumption vector which is the exponentiated means of each \"state\". These states are what make up the Markov matrix. So the asset pricing kernel $K$ is dependent upon the Markov matrix, and the consumption vector. The size of the asset pricing matrix is also the same as the Markov matrix, so we can conduct matrix multiplication later."
   ]
  },
  {
   "cell_type": "markdown",
   "metadata": {},
   "source": [
    "### Part 7\n",
    "Here is an array of maturities $[1, 2, 4, 8, 20, 40, 80, 120]$ in quarters.  Make a diagram with five yield curves.  Each line in your diagram should consist of a yield curve in a given state."
   ]
  },
  {
   "cell_type": "code",
   "execution_count": 13,
   "metadata": {},
   "outputs": [
    {
     "data": {
      "text/plain": [
       "array([  1,   2,   4,   8,  20,  40,  80, 120])"
      ]
     },
     "execution_count": 13,
     "metadata": {},
     "output_type": "execute_result"
    }
   ],
   "source": [
    "maturities = np.array([1,2,4,8,20,40,80,120])\n",
    "maturities"
   ]
  },
  {
   "cell_type": "code",
   "execution_count": 14,
   "metadata": {},
   "outputs": [],
   "source": [
    "def pricing_T(M,K,R,T):\n",
    "    \"\"\"\n",
    "    M is a markov matrix\n",
    "    K is a pricing kernel\n",
    "    R is a matrix of asset payouts.\n",
    "    T is when these assets mature. They all mature at the same time.\n",
    "    The asset returns are by column\n",
    "    \"\"\"\n",
    "    if M.shape != K.shape:\n",
    "        return('Markov matrix and pricing kernels are not conformable.')\n",
    "    if M.shape[1] != R.shape[0]:\n",
    "        return('Asset price matrix is not conformable.')\n",
    "    M1=np.multiply(M,K) #element-by-elemnt multiplication\n",
    "    P = np.matmul(np.linalg.matrix_power(M1,T), R)  \n",
    "    #raise M1 to the T the right multiply by R\n",
    "    return(P)"
   ]
  },
  {
   "cell_type": "code",
   "execution_count": 15,
   "metadata": {
    "scrolled": true
   },
   "outputs": [
    {
     "data": {
      "text/plain": [
       "array([[[1.14917421],\n",
       "        [1.02742375],\n",
       "        [1.01719609],\n",
       "        [1.00724655],\n",
       "        [0.99639199]],\n",
       "\n",
       "       [[1.08117322],\n",
       "        [1.02519171],\n",
       "        [1.01610098],\n",
       "        [1.00751763],\n",
       "        [0.99796114]],\n",
       "\n",
       "       [[1.04716347],\n",
       "        [1.02166588],\n",
       "        [1.01443985],\n",
       "        [1.00751957],\n",
       "        [1.00033653]],\n",
       "\n",
       "       [[1.0288033 ],\n",
       "        [1.01714782],\n",
       "        [1.01222722],\n",
       "        [1.00750518],\n",
       "        [1.00298906]],\n",
       "\n",
       "       [[1.01635223],\n",
       "        [1.01192616],\n",
       "        [1.00969778],\n",
       "        [1.00756825],\n",
       "        [1.00560802]],\n",
       "\n",
       "       [[1.01199387],\n",
       "        [1.00979148],\n",
       "        [1.0086742 ],\n",
       "        [1.00760567],\n",
       "        [1.00662251]],\n",
       "\n",
       "       [[1.00981653],\n",
       "        [1.00871712],\n",
       "        [1.00815891],\n",
       "        [1.00762477],\n",
       "        [1.00713305]],\n",
       "\n",
       "       [[1.00909179],\n",
       "        [1.00835924],\n",
       "        [1.0079872 ],\n",
       "        [1.00763113],\n",
       "        [1.0073033 ]]])"
      ]
     },
     "execution_count": 15,
     "metadata": {},
     "output_type": "execute_result"
    }
   ],
   "source": [
    "# R represents bonds, they return a unit of consumption on payout\n",
    "R = np.array([[1],\n",
    "             [1],\n",
    "             [1],\n",
    "             [1],\n",
    "             [1]])\n",
    "\n",
    "pricing_yields = []\n",
    "for t in maturities:\n",
    "    P = pricing_T(m_usa,K,R,t)\n",
    "    yield_p = (1/P)**(1/t)\n",
    "    pricing_yields.append(yield_p)\n",
    "    \n",
    "pricing_yields = np.array(pricing_yields)\n",
    "pricing_yields"
   ]
  },
  {
   "cell_type": "code",
   "execution_count": 16,
   "metadata": {
    "scrolled": true
   },
   "outputs": [
    {
     "data": {
      "image/png": "[encoded data removed]",
      "text/plain": [
       "<Figure size 720x432 with 1 Axes>"
      ]
     },
     "metadata": {
      "needs_background": "light"
     },
     "output_type": "display_data"
    }
   ],
   "source": [
    "plt.plot(maturities,pricing_yields[:,0], label = 'State 0')\n",
    "plt.plot(maturities,pricing_yields[:,1], label = 'State 1')\n",
    "plt.plot(maturities,pricing_yields[:,2], label = 'State 2')\n",
    "plt.plot(maturities,pricing_yields[:,3], label = 'State 3')\n",
    "plt.plot(maturities,pricing_yields[:,4], label = 'State 4')\n",
    "plt.legend()\n",
    "plt.xlabel('Maturities (in quarters)')\n",
    "plt.ylabel('Yield')\n",
    "plt.title('Bond Yield over different Maturities')\n",
    "plt.show()"
   ]
  },
  {
   "cell_type": "markdown",
   "metadata": {},
   "source": [
    "We can see that as the maturity rate increases, the bond yields all converge to around 1, regardless of the state we purchased the bond in. This is due to the discount factor from K (which is roughly 0.99), which was given to us in the problem. "
   ]
  },
  {
   "cell_type": "markdown",
   "metadata": {},
   "source": [
    "### Part 8\n",
    "Discuss whether an inverted yield curve conveys information about next period's state. "
   ]
  },
  {
   "cell_type": "markdown",
   "metadata": {},
   "source": [
    "As discussed in class, an inverted yield curve has been an indicator for the past seven recessions. So it can convey information about next period's state. At the very least, if you see an inverted yield curve you should be wary of a coming recession."
   ]
  },
  {
   "cell_type": "markdown",
   "metadata": {},
   "source": [
    "### Part 9\n",
    "The stock market is an asset that pays a dividend equal to the economy's consumption in each quarter.  Price the stock market in each state.  (You can truncate the dividends after 10,000 periods.). My vector of prices included the number 137.1 (rounded to 1 decimal) for the best state. "
   ]
  },
  {
   "cell_type": "code",
   "execution_count": 17,
   "metadata": {},
   "outputs": [],
   "source": [
    "def pricing_stock(M,K,R,T):\n",
    "    \"\"\"\n",
    "    M is a markov matrix\n",
    "    K is a pricing kernel\n",
    "    R is a matrix of asset payouts.  Its columns vary with time\n",
    "    T is the end of the payout stream\n",
    "    \"\"\"\n",
    "    n=M.shape[0] #number of states\n",
    "    if M.shape != K.shape:\n",
    "        return('Markov matrix and pricing kernels are not conformable.')\n",
    "    if M.shape[1] != R.shape[0]:\n",
    "        return('Asset price matrix is not conformable.')\n",
    "    M1=np.multiply(M,K) #element-by-element multiplication\n",
    "    p=np.zeros(n)\n",
    "    for t in range(T):\n",
    "        p += np.matmul(np.linalg.matrix_power(M1,t), R[:,t])  \n",
    "    #raise M1 to the T the right multiply by t-th column of R\n",
    "    # Then add them all up\n",
    "    return(p)"
   ]
  },
  {
   "cell_type": "code",
   "execution_count": 18,
   "metadata": {},
   "outputs": [
    {
     "data": {
      "text/plain": [
       "array([111. , 121.2, 126.5, 131.9, 137.1])"
      ]
     },
     "execution_count": 18,
     "metadata": {},
     "output_type": "execute_result"
    }
   ],
   "source": [
    "T = 10000\n",
    "r = ([[consumption_vector[0]],\n",
    "     [consumption_vector[1]],\n",
    "     [consumption_vector[2]],\n",
    "     [consumption_vector[3]],\n",
    "     [consumption_vector[4]]])\n",
    "R = r@np.ones((1,T))\n",
    "\n",
    "prices = pricing_stock(m_usa,K,R,T)\n",
    "np.round(prices,1)"
   ]
  },
  {
   "cell_type": "markdown",
   "metadata": {},
   "source": [
    "### Part 10\n",
    "The first row of the Markov matrix was (0, 0, 1, 0, 0).  What is the expected duration of a lockdown  for this matrix?  Change the first row of the matrix so that it is (p, 0,  1-p, 0, 0) for 0 < p < 1 to simulate a four-period lockdown.   What is the correct value of p?   I found a long-run probability of being in a Covid state to be 0.01377061 in this case. "
   ]
  },
  {
   "cell_type": "markdown",
   "metadata": {},
   "source": [
    "The expected duration of lockdown for the initial Markov matrix was 1 period (so 1 quarter). "
   ]
  },
  {
   "cell_type": "code",
   "execution_count": 19,
   "metadata": {},
   "outputs": [],
   "source": [
    "p = 0.75\n",
    "new_markov = np.array([[p, 0., 1.-p, 0., 0.],\n",
    "       [0., 0.55555556, 0.44444444, 0., 0.],\n",
    "       [0., 0.06976744, 0.62790698, 0.30232558, 0.],\n",
    "       [0.00584795, 0.00584795, 0.06432749, 0.81871345, 0.10526316],\n",
    "       [0., 0., 0., 0.28358209, 0.71641791]])"
   ]
  },
  {
   "cell_type": "code",
   "execution_count": 20,
   "metadata": {
    "scrolled": true
   },
   "outputs": [
    {
     "data": {
      "text/plain": [
       "array([[0.0137706 ],\n",
       "       [0.03098387],\n",
       "       [0.14803406],\n",
       "       [0.58869361],\n",
       "       [0.21851785]])"
      ]
     },
     "execution_count": 20,
     "metadata": {},
     "output_type": "execute_result"
    }
   ],
   "source": [
    "new_long_run = ergodic(new_markov)\n",
    "#new_long_run = new_long_run.real.astype(float)\n",
    "new_long_run"
   ]
  },
  {
   "cell_type": "markdown",
   "metadata": {},
   "source": [
    "The correct value of p is 0.75, this can be found using the formula: $E(X) = \\dfrac{1}{1-\\pi_{ii}}$. This gives us the expect amount of periods we would remain in the Covid state. So when $\\pi_{11}$ is equal to 0.75, the expected amount of periods we would remain in the Covid state is 4."
   ]
  },
  {
   "cell_type": "markdown",
   "metadata": {},
   "source": [
    "### Part 11\n",
    "Simulate and graph the time series of consumption and the stock market for 400 periods  in the two different scenarios, the one-period lockdown and the four-period lockdown.   You should multiply consumption times 100 to put it on the same scale as the stock market."
   ]
  },
  {
   "cell_type": "markdown",
   "metadata": {},
   "source": [
    "I'll start by getting the long-run stock prices after 400 periods, for both a 1 period lockdown scenario and a 4 period lockdown scenario."
   ]
  },
  {
   "cell_type": "code",
   "execution_count": 21,
   "metadata": {},
   "outputs": [
    {
     "data": {
      "text/plain": [
       "array([105.8, 115.4, 120.5, 125.7, 130.6])"
      ]
     },
     "execution_count": 21,
     "metadata": {},
     "output_type": "execute_result"
    }
   ],
   "source": [
    "# 1 period-lockdown stock prices (after 400 periods)\n",
    "T = 400\n",
    "r = ([[consumption_vector[0]],\n",
    "     [consumption_vector[1]],\n",
    "     [consumption_vector[2]],\n",
    "     [consumption_vector[3]],\n",
    "     [consumption_vector[4]]])\n",
    "R = r@np.ones((1,T))\n",
    "\n",
    "prices = pricing_stock(m_usa,K,R,T)\n",
    "np.round(prices,1)"
   ]
  },
  {
   "cell_type": "code",
   "execution_count": 22,
   "metadata": {},
   "outputs": [
    {
     "data": {
      "text/plain": [
       "array([106.1, 115.5, 120.6, 125.8, 130.7])"
      ]
     },
     "execution_count": 22,
     "metadata": {},
     "output_type": "execute_result"
    }
   ],
   "source": [
    "# 4 period-lockdown stock prices (after 400 periods)\n",
    "T = 400\n",
    "r = ([[consumption_vector[0]],\n",
    "     [consumption_vector[1]],\n",
    "     [consumption_vector[2]],\n",
    "     [consumption_vector[3]],\n",
    "     [consumption_vector[4]]])\n",
    "R = r@np.ones((1,T))\n",
    "\n",
    "new_prices = pricing_stock(new_markov,K,R,T)\n",
    "np.round(new_prices,1)"
   ]
  },
  {
   "cell_type": "markdown",
   "metadata": {},
   "source": [
    "Now, I will simulate an economy using the Markov matrices for each scenario, as well as the stock prices we just generated. I will set the seed for both simulations, so as to reproduce figures."
   ]
  },
  {
   "cell_type": "code",
   "execution_count": 23,
   "metadata": {
    "scrolled": true
   },
   "outputs": [
    {
     "data": {
      "image/png": "[encoded data removed]",
      "text/plain": [
       "<Figure size 720x432 with 1 Axes>"
      ]
     },
     "metadata": {
      "needs_background": "light"
     },
     "output_type": "display_data"
    },
    {
     "name": "stdout",
     "output_type": "stream",
     "text": [
      "The long-run average consumption is 100.1701554507668\n",
      "The long-run average stock price for our economy is 126.04800994135316\n"
     ]
    }
   ],
   "source": [
    "# setting the seed so we get the same output each time\n",
    "np.random.seed(20)\n",
    "n=len(consumption_vector) # number of states\n",
    "T=400 # time horizon\n",
    "s0 =np.random.choice(np.arange(0, n), p=long_run[:,0]) # pick a random inital state using π\n",
    "state=[s0] #history of states\n",
    "y=[] #GDP array\n",
    "stock_price = [] # stock price array\n",
    "for t in range(T):\n",
    "    s=np.random.choice(np.arange(0, n), p=m_usa[s0,:]) #choose a random state \n",
    "    s0=s\n",
    "    state.append(s)\n",
    "    y.append(100*consumption_vector[s])\n",
    "    stock_price.append(prices[s])\n",
    "\n",
    "long_run_consumption_average = np.mean(y)\n",
    "long_run_stock_price_avg = np.mean(stock_price)\n",
    "# plot the outcome\n",
    "plt.plot(y,label=\"Consumption\")\n",
    "plt.plot(stock_price,label=\"Stock Price\")\n",
    "plt.title('1-period Lockdown Simulation')\n",
    "plt.xlabel('Quarters')\n",
    "plt.legend()\n",
    "plt.show()\n",
    "print('The long-run average consumption is', long_run_consumption_average)\n",
    "print('The long-run average stock price for our economy is', long_run_stock_price_avg)"
   ]
  },
  {
   "cell_type": "code",
   "execution_count": 24,
   "metadata": {
    "scrolled": true
   },
   "outputs": [
    {
     "data": {
      "image/png": "[encoded data removed]",
      "text/plain": [
       "<Figure size 720x432 with 1 Axes>"
      ]
     },
     "metadata": {
      "needs_background": "light"
     },
     "output_type": "display_data"
    },
    {
     "name": "stdout",
     "output_type": "stream",
     "text": [
      "The long-run average consumption is 99.67059140078874\n",
      "The long-run average stock price for our economy is 124.96329130002825\n"
     ]
    }
   ],
   "source": [
    "# again setting the seed so we can reproduce these numbers\n",
    "np.random.seed(21)\n",
    "n=len(consumption_vector) # number of states\n",
    "T=400 # time horizon\n",
    "s0 =np.random.choice(np.arange(0, n), p=new_long_run[:,0]) # pick a random inital state using π\n",
    "state=[s0] #history of states\n",
    "y=[] #GDP array\n",
    "stock_price = [] # stock price array\n",
    "for t in range(T):\n",
    "    s=np.random.choice(np.arange(0, n), p=new_markov[s0,:]) #choose a random state \n",
    "    s0=s\n",
    "    state.append(s)\n",
    "    y.append(100*consumption_vector[s])\n",
    "    stock_price.append(new_prices[s])\n",
    "    \n",
    "long_run_consumption_average_lockdown = np.mean(y)\n",
    "long_run_stock_price_avg_lockdown = np.mean(stock_price)\n",
    "# plot the outcome\n",
    "plt.plot(y, label = \"Consumption\")\n",
    "plt.plot(stock_price, label = \"Stock Price\")\n",
    "plt.title('4-period Lockdown Simulation')\n",
    "plt.xlabel('Quarters')\n",
    "plt.legend()\n",
    "plt.show()\n",
    "print('The long-run average consumption is', long_run_consumption_average_lockdown)\n",
    "print('The long-run average stock price for our economy is', long_run_stock_price_avg_lockdown)"
   ]
  },
  {
   "cell_type": "markdown",
   "metadata": {},
   "source": [
    "### Part 12\n",
    "Calculate the welfare loss from a four-period lockdown as the percentage decrease in long-run average consumption, when comparing a four-period lockdown with a one-period one.  You might want to consider a Rawlsian criterion for welfare loss also; such a criterion would focus on the probability of being in the worst state. Using this article     https://www.pnas.org/content/117/36/22035  explain if a year-long lockdown was worth it.  "
   ]
  },
  {
   "cell_type": "code",
   "execution_count": 33,
   "metadata": {
    "scrolled": true
   },
   "outputs": [
    {
     "data": {
      "text/plain": [
       "-0.49871545844170684"
      ]
     },
     "execution_count": 33,
     "metadata": {},
     "output_type": "execute_result"
    }
   ],
   "source": [
    "((long_run_consumption_average_lockdown - long_run_consumption_average) / (long_run_consumption_average)) * 100"
   ]
  },
  {
   "cell_type": "markdown",
   "metadata": {},
   "source": [
    "There is a -0.49% decrease in long-run average consumption when comparing a four-period lockdown with a one-period lockdown. I was personally expecting a much larger change (decrease) in long-run average consumption as an effect of the extended 4-period Covid lockdown state. The percent change does not appear to be catastrophically damaging to the long-term economy, but obviously a 0.49% decrease is not nothing. That welfare loss could be the difference between family businesses staying open, people staying employed etc. Even a slight decrease in welfare has large effects across the world. A four-period lockdown does have major damage to the economy (an 8% drop in consumption is unseen) and would be devastating to those unable to work from home (so most of those who have low-income positions in the service industry), especially with a lack of government support (via stimulus checks, rent and mortgage moratoriums etc). That would directly lead to an increase in poverty, and people struggling to provide even basic necessities like food or shelter. So in that case, a four-period lockdown is likely not worth it (even accounting for the economic value we receive by saving lives, as discussed in the article above).\n",
    "\n",
    "Not going in to a lockdown also would cause regressive effects though. Those working on the front-lines would be at a higher risk of getting Covid and would have to deal with the adverse health effects that come with Covid. This would lead to a lack of individual productivity, with a potential decrease in life expectancy (and thus reducing long-term economic benefit). In the paper, \"Demographic perspectives on the mortality of COVID-19 and other epidemics\" by Goldstein and Lee, they calculated the economic damage from deaths due to Covid-19, and that reported that saving 1.75 million lives would be worth 17.5 trillion dollars (based on the economic \"worth\" of a human life, who is to say what a life is worth). This 1.75 millions deaths comes from an uncontrolled spread of Covid-19, and that may be underrepresenting figures, especially with an increase in deaths coming from lack of ICU space in hospitals (so those who had accidents happen may not get the medical attention they would usually receive due to Covid patients taking up hospital beds). A longer lock-down, until the disease is controlled, in this case could be a smarter way to go. \n",
    "\n",
    "**This is an aside:**  \n",
    "However, knowing how other nations dealt with Covid (longer lockdowns to control the spread, conditional lockdowns based on testing numbers, monthly stimulus checks), it's hard to say the United States specific-approach was a good one. Very little in stimulus payments, and a brief lockdown dependent upon the state's Governor. This just meant Covid stuck around longer, and is why we are still in some state of lockdown desperately relying on the vaccnine distribution to \"save the day\" all while businesses still can't function at their usual level. Countries like Australia were able to control Covid instead and now their lives are mostly back to normal, while I'm taking my Master's courses online.\n",
    "\n",
    "**end aside**"
   ]
  },
  {
   "cell_type": "markdown",
   "metadata": {},
   "source": [
    "We can also consider the Rawlsian criterion for welfare loss as well by looking at the long-term probabilities of being in the \"Covid\" state from the 1-period and 4-period state. Both of these probabilities were found above. The probability of being in the Covid state in the 1-period scenario is a very small 0.003, so once every 300 years or so. In the 4-period scenario, the probability of being in the Covid state is much larger at 0.013, so about once every 100 years. This is obviously a large change. In the first case, someone could feasibly go their entire life without a \"Covid\" state. In the second case, the long-run probability of being in a \"Covid\" state gets much larger, where now a person could almost expect to live through one of these monster economic downturns.\n",
    "\n",
    "The expected duration of each scenario is also something to consider. In the one period case, the economy is only in the Covid state for one period. Then it's over and the economy is mostly back to normal within a couple of months. The 4-period state has an expected length of 4 quarters (a year in total), this means it could be shorter or longer than a year, but on average you are in this horrible economic state for a year. This could be absolutely devastating. Consider someone fasting, one day every 100 days or so isn't that bad. But fasting for 4 or more days could be killer (and likely will kill you depending on how long this mandatory fast goes)."
   ]
  }
 ],
 "metadata": {
  "kernelspec": {
   "display_name": "Python 3",
   "language": "python",
   "name": "python3"
  },
  "language_info": {
   "codemirror_mode": {
    "name": "ipython",
    "version": 3
   },
   "file_extension": ".py",
   "mimetype": "text/x-python",
   "name": "python",
   "nbconvert_exporter": "python",
   "pygments_lexer": "ipython3",
   "version": "3.8.3"
  }
 },
 "nbformat": 4,
 "nbformat_minor": 4
}
